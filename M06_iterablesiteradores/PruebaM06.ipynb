{
 "cells": [
  {
   "cell_type": "code",
   "execution_count": 2,
   "metadata": {},
   "outputs": [
    {
     "data": {
      "text/plain": [
       "267"
      ]
     },
     "execution_count": 2,
     "metadata": {},
     "output_type": "execute_result"
    }
   ],
   "source": [
    "una_lista = [54, 78, 15, 35, 85]\n",
    "\n",
    "sum(una_lista)\n",
    "\n",
    "#Es necesario utilizar una clase iterable en el metodo sum()"
   ]
  },
  {
   "cell_type": "code",
   "execution_count": 6,
   "metadata": {},
   "outputs": [
    {
     "data": {
      "text/plain": [
       "'Hola soy Cristian'"
      ]
     },
     "execution_count": 6,
     "metadata": {},
     "output_type": "execute_result"
    }
   ],
   "source": [
    "un_list = [\"Hola\", \"soy\", \"Cristian\"]\n",
    "\n",
    "\" \".join(un_list)"
   ]
  },
  {
   "cell_type": "code",
   "execution_count": 17,
   "metadata": {},
   "outputs": [
    {
     "name": "stdout",
     "output_type": "stream",
     "text": [
      "página1\n",
      "página2\n",
      "página3\n",
      "página4\n"
     ]
    }
   ],
   "source": [
    "libro = ['página1', 'página2', 'página3', 'página4']\n",
    "\n",
    "marcapaginas = iter(libro)\n",
    "\n",
    "pag1 = next(marcapaginas)\n",
    "print(pag1)\n",
    "# pag2 = next(marcapaginas)\n",
    "# print(pag2)\n",
    "pag3 = next(marcapaginas)\n",
    "print(pag3)\n",
    "pag4 = next(marcapaginas)\n",
    "print(pag4)\n",
    "pag5 = next(marcapaginas)\n",
    "print(pag5)\n"
   ]
  },
  {
   "cell_type": "code",
   "execution_count": 20,
   "metadata": {},
   "outputs": [
    {
     "data": {
      "text/plain": [
       "[('Ginna', 28, 'Ingeniera'),\n",
       " ('Ana', 24, 'Profesora'),\n",
       " ('Laura', 30, 'Contadora')]"
      ]
     },
     "execution_count": 20,
     "metadata": {},
     "output_type": "execute_result"
    }
   ],
   "source": [
    "nombres = [\"Ginna\", \"Ana\", \"Laura\"]\n",
    "años = [28, 24, 30]\n",
    "profesion = [\"Ingeniera\", \"Profesora\", \"Contadora\"]\n",
    "\n",
    "datos_personales = zip(nombres,años,profesion)\n",
    "type(datos_personales)\n",
    "\n",
    "#Es necesario convertir el zip para ser leido\n",
    "list(datos_personales)"
   ]
  },
  {
   "cell_type": "code",
   "execution_count": 4,
   "metadata": {},
   "outputs": [
    {
     "name": "stdout",
     "output_type": "stream",
     "text": [
      "[4, 4, 4, 4]\n"
     ]
    }
   ],
   "source": [
    "numros = [4, 5, 45, 78, 4, 57, 25, 4, 63, 41, 42, 4, 75]\n",
    "\n",
    "cuatros = [i for i in numros if i == 4]\n",
    "\n",
    "print(cuatros)"
   ]
  },
  {
   "cell_type": "code",
   "execution_count": 8,
   "metadata": {},
   "outputs": [
    {
     "name": "stdout",
     "output_type": "stream",
     "text": [
      "True\n"
     ]
    }
   ],
   "source": [
    "if(type(numros) == list):\n",
    "    print(True)"
   ]
  },
  {
   "cell_type": "code",
   "execution_count": 13,
   "metadata": {},
   "outputs": [
    {
     "data": {
      "text/plain": [
       "True"
      ]
     },
     "execution_count": 13,
     "metadata": {},
     "output_type": "execute_result"
    }
   ],
   "source": [
    "hola = 'hola'\n",
    "\n",
    "type(hola) == str\n"
   ]
  },
  {
   "cell_type": "code",
   "execution_count": 25,
   "metadata": {},
   "outputs": [
    {
     "name": "stdout",
     "output_type": "stream",
     "text": [
      "[['m', 'u', 'n', 'd', 'o'], [1, 2, 3, 4], ['h', 'o', 'l', 'a'], ['M', 'a', 'o']]\n",
      "[['m', 'u', 'n', 'd', 'o'], [1, 2, 3, 4], ['h', 'o', 'l', 'a'], ['M', 'a', 'o']]\n"
     ]
    }
   ],
   "source": [
    "some_list = [\"mundo\" ,[1,2,3,4], \"hola\", \"Mao\"]\n",
    "copia = []\n",
    "\n",
    "i = 0\n",
    "\n",
    "while(i < len(some_list)):\n",
    "    if(type(some_list[i]) == str):\n",
    "        new_list = list(some_list[i])\n",
    "        copia.append(new_list)\n",
    "        i += 1\n",
    "    else:\n",
    "        copia.append(some_list[i])\n",
    "        i += 1\n",
    "\n",
    "some_list = copia\n",
    "\n",
    "print(copia)\n",
    "print(some_list)"
   ]
  },
  {
   "cell_type": "code",
   "execution_count": 26,
   "metadata": {},
   "outputs": [
    {
     "data": {
      "text/plain": [
       "4"
      ]
     },
     "execution_count": 26,
     "metadata": {},
     "output_type": "execute_result"
    }
   ],
   "source": [
    "len(some_list[1])"
   ]
  }
 ],
 "metadata": {
  "kernelspec": {
   "display_name": "Python 3",
   "language": "python",
   "name": "python3"
  },
  "language_info": {
   "codemirror_mode": {
    "name": "ipython",
    "version": 3
   },
   "file_extension": ".py",
   "mimetype": "text/x-python",
   "name": "python",
   "nbconvert_exporter": "python",
   "pygments_lexer": "ipython3",
   "version": "3.11.3"
  }
 },
 "nbformat": 4,
 "nbformat_minor": 2
}
