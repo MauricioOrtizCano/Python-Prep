{
 "cells": [
  {
   "cell_type": "code",
   "execution_count": null,
   "metadata": {},
   "outputs": [],
   "source": []
  },
  {
   "attachments": {},
   "cell_type": "markdown",
   "metadata": {},
   "source": [
    "## Estructuras de Datos"
   ]
  },
  {
   "attachments": {},
   "cell_type": "markdown",
   "metadata": {},
   "source": [
    "1) Crear una lista que contenga nombres de ciudades del mundo que contenga más de 5 elementos e imprimir por pantalla"
   ]
  },
  {
   "cell_type": "code",
   "execution_count": 53,
   "metadata": {},
   "outputs": [
    {
     "name": "stdout",
     "output_type": "stream",
     "text": [
      "Bogotá\n",
      "Santiago de Chile\n",
      "Ushuaia\n",
      "Londres\n",
      "Boston\n",
      "Sidney\n",
      "Seúl\n",
      "Busan\n",
      "Tokio\n",
      "Prípiat\n"
     ]
    }
   ],
   "source": [
    "ciudades = [\"Bogotá\", \"Santiago de Chile\", \"Ushuaia\", \"Londres\", \"Boston\", \"Sidney\", \"Seúl\", \"Busan\", \"Tokio\", \"Prípiat\"]\n",
    "\n",
    "for i in range(0,len(ciudades)):\n",
    "    print(ciudades[i])"
   ]
  },
  {
   "attachments": {},
   "cell_type": "markdown",
   "metadata": {},
   "source": [
    "2) Imprimir por pantalla el segundo elemento de la lista"
   ]
  },
  {
   "cell_type": "code",
   "execution_count": 54,
   "metadata": {},
   "outputs": [
    {
     "name": "stdout",
     "output_type": "stream",
     "text": [
      "Santiago de Chile\n"
     ]
    }
   ],
   "source": [
    "print(ciudades[1])"
   ]
  },
  {
   "attachments": {},
   "cell_type": "markdown",
   "metadata": {},
   "source": [
    "3) Imprimir por pantalla del segundo al cuarto elemento"
   ]
  },
  {
   "cell_type": "code",
   "execution_count": 55,
   "metadata": {},
   "outputs": [
    {
     "name": "stdout",
     "output_type": "stream",
     "text": [
      "Santiago de Chile\n",
      "Ushuaia\n",
      "Londres\n"
     ]
    }
   ],
   "source": [
    "for j in range(1,4):\n",
    "    print(ciudades[j])\n",
    "\n",
    "#print(ciudades[1:4])"
   ]
  },
  {
   "attachments": {},
   "cell_type": "markdown",
   "metadata": {},
   "source": [
    "4) Visualizar el tipo de dato de la lista"
   ]
  },
  {
   "cell_type": "code",
   "execution_count": 56,
   "metadata": {},
   "outputs": [
    {
     "data": {
      "text/plain": [
       "list"
      ]
     },
     "execution_count": 56,
     "metadata": {},
     "output_type": "execute_result"
    }
   ],
   "source": [
    "type(ciudades)"
   ]
  },
  {
   "attachments": {},
   "cell_type": "markdown",
   "metadata": {},
   "source": [
    "5) Visualizar todos los elementos de la lista a partir del tercero de manera genérica, es decir, sin explicitar la posición del último elemento"
   ]
  },
  {
   "cell_type": "code",
   "execution_count": 57,
   "metadata": {},
   "outputs": [
    {
     "data": {
      "text/plain": [
       "['Ushuaia', 'Londres', 'Boston', 'Sidney', 'Seúl', 'Busan', 'Tokio', 'Prípiat']"
      ]
     },
     "execution_count": 57,
     "metadata": {},
     "output_type": "execute_result"
    }
   ],
   "source": [
    "ciudades[2:len(ciudades)]\n",
    "\n",
    "#print(ciudades[2:])"
   ]
  },
  {
   "attachments": {},
   "cell_type": "markdown",
   "metadata": {},
   "source": [
    "6) Visualizar los primeros 4 elementos de la lista"
   ]
  },
  {
   "cell_type": "code",
   "execution_count": 58,
   "metadata": {},
   "outputs": [
    {
     "data": {
      "text/plain": [
       "['Bogotá', 'Santiago de Chile', 'Ushuaia', 'Londres']"
      ]
     },
     "execution_count": 58,
     "metadata": {},
     "output_type": "execute_result"
    }
   ],
   "source": [
    "ciudades[:4]"
   ]
  },
  {
   "attachments": {},
   "cell_type": "markdown",
   "metadata": {},
   "source": [
    "7) Agregar una ciudad más a la lista que ya exista y otra que no ¿Arroja algún tipo de error?"
   ]
  },
  {
   "cell_type": "code",
   "execution_count": 59,
   "metadata": {},
   "outputs": [
    {
     "name": "stdout",
     "output_type": "stream",
     "text": [
      "['Bogotá', 'Santiago de Chile', 'Ushuaia', 'Londres', 'Boston', 'Sidney', 'Seúl', 'Busan', 'Tokio', 'Prípiat', 'Bogotá', 'Toronto']\n"
     ]
    }
   ],
   "source": [
    "ciudades.append(\"Bogotá\")\n",
    "ciudades.append(\"Toronto\")\n",
    "\n",
    "print(ciudades)\n",
    "\n",
    "#No arroja ningún error ya que la lista permite tener elementos iguales"
   ]
  },
  {
   "attachments": {},
   "cell_type": "markdown",
   "metadata": {},
   "source": [
    "8) Agregar otra ciudad, pero en la cuarta posición"
   ]
  },
  {
   "cell_type": "code",
   "execution_count": 60,
   "metadata": {},
   "outputs": [
    {
     "name": "stdout",
     "output_type": "stream",
     "text": [
      "['Bogotá', 'Santiago de Chile', 'Ushuaia', 'Moscú', 'Londres', 'Boston', 'Sidney', 'Seúl', 'Busan', 'Tokio', 'Prípiat', 'Bogotá', 'Toronto']\n"
     ]
    }
   ],
   "source": [
    "ciudades.insert(3,\"Moscú\")\n",
    "print(ciudades)"
   ]
  },
  {
   "attachments": {},
   "cell_type": "markdown",
   "metadata": {},
   "source": [
    "9) Concatenar otra lista a la ya creada"
   ]
  },
  {
   "cell_type": "code",
   "execution_count": 61,
   "metadata": {},
   "outputs": [
    {
     "name": "stdout",
     "output_type": "stream",
     "text": [
      "['Bogotá', 'Santiago de Chile', 'Ushuaia', 'Moscú', 'Londres', 'Boston', 'Sidney', 'Seúl', 'Busan', 'Tokio', 'Prípiat', 'Bogotá', 'Toronto', 'Ciudad de México', 'La Habana', 'El Cairo', 'Ciudad del Cabo']\n"
     ]
    }
   ],
   "source": [
    "ciudades2 = [\"Ciudad de México\", \"La Habana\", \"El Cairo\", \"Ciudad del Cabo\"]\n",
    "\n",
    "ciudades.extend(ciudades2)\n",
    "\n",
    "print(ciudades)"
   ]
  },
  {
   "attachments": {},
   "cell_type": "markdown",
   "metadata": {},
   "source": [
    "10) Encontrar el índice de la ciudad que en el punto 7 agregamos duplicada. ¿Se nota alguna particularidad?"
   ]
  },
  {
   "cell_type": "code",
   "execution_count": 62,
   "metadata": {},
   "outputs": [
    {
     "name": "stdout",
     "output_type": "stream",
     "text": [
      "11\n"
     ]
    }
   ],
   "source": [
    "posicion = ciudades.index(\"Bogotá\") + 1\n",
    "\n",
    "print(ciudades.index(\"Bogotá\", posicion, len(ciudades)))"
   ]
  },
  {
   "attachments": {},
   "cell_type": "markdown",
   "metadata": {},
   "source": [
    "11) ¿Qué pasa si se busca un elemento que no existe?"
   ]
  },
  {
   "cell_type": "code",
   "execution_count": 44,
   "metadata": {},
   "outputs": [],
   "source": [
    "#ciudades.index(\"Caracas\") Da error ya que no existe"
   ]
  },
  {
   "attachments": {},
   "cell_type": "markdown",
   "metadata": {},
   "source": [
    "12) Eliminar un elemento de la lista"
   ]
  },
  {
   "cell_type": "code",
   "execution_count": 63,
   "metadata": {},
   "outputs": [
    {
     "name": "stdout",
     "output_type": "stream",
     "text": [
      "['Bogotá', 'Santiago de Chile', 'Ushuaia', 'Moscú', 'Londres', 'Boston', 'Sidney', 'Seúl', 'Busan', 'Tokio', 'Prípiat', 'Toronto', 'Ciudad de México', 'La Habana', 'El Cairo', 'Ciudad del Cabo']\n"
     ]
    }
   ],
   "source": [
    "ciudades.pop(ciudades.index(\"Bogotá\", posicion, len(ciudades)))\n",
    "\n",
    "print(ciudades)"
   ]
  },
  {
   "attachments": {},
   "cell_type": "markdown",
   "metadata": {},
   "source": [
    "13) ¿Qué pasa si el elemento a eliminar no existe?"
   ]
  },
  {
   "cell_type": "code",
   "execution_count": 64,
   "metadata": {},
   "outputs": [],
   "source": [
    "#ciudades.remove(\"Caracas\") Da error ya que Caracas no se encuentra en la lista"
   ]
  },
  {
   "attachments": {},
   "cell_type": "markdown",
   "metadata": {},
   "source": [
    "14) Extraer el úlimo elemento de la lista, guardarlo en una variable e imprimirlo"
   ]
  },
  {
   "cell_type": "code",
   "execution_count": 65,
   "metadata": {},
   "outputs": [
    {
     "name": "stdout",
     "output_type": "stream",
     "text": [
      "Ciudad del Cabo\n"
     ]
    }
   ],
   "source": [
    "ultima_ciudad = ciudades.pop()\n",
    "\n",
    "print(ultima_ciudad)"
   ]
  },
  {
   "attachments": {},
   "cell_type": "markdown",
   "metadata": {},
   "source": [
    "15) Mostrar la lista multiplicada por 4"
   ]
  },
  {
   "cell_type": "code",
   "execution_count": 66,
   "metadata": {},
   "outputs": [
    {
     "name": "stdout",
     "output_type": "stream",
     "text": [
      "['Bogotá', 'Santiago de Chile', 'Ushuaia', 'Moscú', 'Londres', 'Boston', 'Sidney', 'Seúl', 'Busan', 'Tokio', 'Prípiat', 'Toronto', 'Ciudad de México', 'La Habana', 'El Cairo', 'Bogotá', 'Santiago de Chile', 'Ushuaia', 'Moscú', 'Londres', 'Boston', 'Sidney', 'Seúl', 'Busan', 'Tokio', 'Prípiat', 'Toronto', 'Ciudad de México', 'La Habana', 'El Cairo', 'Bogotá', 'Santiago de Chile', 'Ushuaia', 'Moscú', 'Londres', 'Boston', 'Sidney', 'Seúl', 'Busan', 'Tokio', 'Prípiat', 'Toronto', 'Ciudad de México', 'La Habana', 'El Cairo', 'Bogotá', 'Santiago de Chile', 'Ushuaia', 'Moscú', 'Londres', 'Boston', 'Sidney', 'Seúl', 'Busan', 'Tokio', 'Prípiat', 'Toronto', 'Ciudad de México', 'La Habana', 'El Cairo']\n"
     ]
    }
   ],
   "source": [
    "print(ciudades * 4)"
   ]
  },
  {
   "attachments": {},
   "cell_type": "markdown",
   "metadata": {},
   "source": [
    "16) Crear una tupla que contenga los números enteros del 1 al 20"
   ]
  },
  {
   "cell_type": "code",
   "execution_count": 67,
   "metadata": {},
   "outputs": [
    {
     "name": "stdout",
     "output_type": "stream",
     "text": [
      "[1, 2, 3, 4, 5, 6, 7, 8, 9, 10, 11, 12, 13, 14, 15, 16, 17, 18, 19, 20]\n",
      "(1, 2, 3, 4, 5, 6, 7, 8, 9, 10, 11, 12, 13, 14, 15, 16, 17, 18, 19, 20)\n"
     ]
    }
   ],
   "source": [
    "mi_lista = []\n",
    "\n",
    "for a in range(1,21):\n",
    "    mi_lista.append(a)\n",
    "\n",
    "print(mi_lista)\n",
    "\n",
    "mi_tupla = tuple(mi_lista)\n",
    "\n",
    "print(mi_tupla)"
   ]
  },
  {
   "attachments": {},
   "cell_type": "markdown",
   "metadata": {},
   "source": [
    "17) Imprimir desde el índice 10 al 15 de la tupla"
   ]
  },
  {
   "cell_type": "code",
   "execution_count": 68,
   "metadata": {},
   "outputs": [
    {
     "name": "stdout",
     "output_type": "stream",
     "text": [
      "11\n",
      "12\n",
      "13\n",
      "14\n",
      "15\n",
      "16\n"
     ]
    }
   ],
   "source": [
    "for x in range(10,16):\n",
    "    print(mi_tupla[x])\n",
    "\n",
    "#print(mi_tupla[10:16])\n",
    "    "
   ]
  },
  {
   "attachments": {},
   "cell_type": "markdown",
   "metadata": {},
   "source": [
    "18) Evaluar si los números 20 y 30 están dentro de la tupla"
   ]
  },
  {
   "cell_type": "code",
   "execution_count": 69,
   "metadata": {},
   "outputs": [
    {
     "name": "stdout",
     "output_type": "stream",
     "text": [
      "True\n",
      "False\n"
     ]
    }
   ],
   "source": [
    "print(20 in mi_tupla)\n",
    "print(30 in mi_tupla)\n",
    "\n",
    "\n",
    "#Mi procedimiento y esta mal\n",
    "#mi_tupla.index(20)\n",
    "#mi_tupla.index(30) Da error ya que 30 no se encuentra en la tupla"
   ]
  },
  {
   "cell_type": "code",
   "execution_count": 17,
   "metadata": {},
   "outputs": [
    {
     "name": "stdout",
     "output_type": "stream",
     "text": [
      "No existe el numero 30 dentro de la tupla\n"
     ]
    }
   ],
   "source": [
    "mayor = 0\n",
    "\n",
    "for y in mi_tupla:\n",
    "    if (mayor < y):\n",
    "        mayor = y\n",
    "    elif (y == 20):\n",
    "        print(\"El numero 20 si se encuentra en la tupla\")\n",
    "    elif (y == 30):\n",
    "        print(\"El numero 30 si se encuentra en la tupla\")\n",
    "\n",
    "if (mayor < 30):\n",
    "    print(\"No existe el numero 30 dentro de la tupla\")"
   ]
  },
  {
   "attachments": {},
   "cell_type": "markdown",
   "metadata": {},
   "source": [
    "19) Con la lista creada en el punto 1, validar la existencia del elemento 'París' y si no existe, agregarlo. Utilizar una variable e informar lo sucedido."
   ]
  },
  {
   "cell_type": "code",
   "execution_count": 18,
   "metadata": {},
   "outputs": [
    {
     "name": "stdout",
     "output_type": "stream",
     "text": [
      "No se encontró la ciudad Paris\n",
      "['Bogotá', 'Santiago de Chile', 'Ushuaia', 'Moscú', 'Londres', 'Boston', 'Sidney', 'Seúl', 'Busan', 'Tokio', 'Prípiat', 'Toronto', 'Ciudad de México', 'La Habana', 'El Cairo', 'París']\n"
     ]
    }
   ],
   "source": [
    "index = 0\n",
    "\n",
    "while(index < len(ciudades)):\n",
    "    if (index == \"París\"):\n",
    "        print(\"La ciudad París si se encuentra en la lista\")\n",
    "        break\n",
    "    else:\n",
    "        index += 1\n",
    "\n",
    "if(index == len(ciudades)):\n",
    "    print(\"No se encontró la ciudad Paris\")\n",
    "    ciudades.append(\"París\")\n",
    "\n",
    "print(ciudades)"
   ]
  },
  {
   "cell_type": "code",
   "execution_count": 70,
   "metadata": {},
   "outputs": [
    {
     "name": "stdout",
     "output_type": "stream",
     "text": [
      "Ya se inserto la ciudad París a la lista\n"
     ]
    }
   ],
   "source": [
    "if(not(\"París\" in ciudades)):\n",
    "    ciudades.append(\"Paris\")\n",
    "    print(\"Ya se inserto la ciudad París a la lista\")\n",
    "else:\n",
    "    print(\"París ya se encuentra en la lista\")"
   ]
  },
  {
   "attachments": {},
   "cell_type": "markdown",
   "metadata": {},
   "source": [
    "20) Mostrar la cantidad de veces que se encuentra un elemento específico dentro de la tupla y de la lista"
   ]
  },
  {
   "cell_type": "code",
   "execution_count": 19,
   "metadata": {},
   "outputs": [
    {
     "data": {
      "text/plain": [
       "1"
      ]
     },
     "execution_count": 19,
     "metadata": {},
     "output_type": "execute_result"
    }
   ],
   "source": [
    "ciudades.count(\"París\")"
   ]
  },
  {
   "attachments": {},
   "cell_type": "markdown",
   "metadata": {},
   "source": [
    "21) Convertir la tupla en una lista"
   ]
  },
  {
   "cell_type": "code",
   "execution_count": 20,
   "metadata": {},
   "outputs": [
    {
     "name": "stdout",
     "output_type": "stream",
     "text": [
      "[1, 2, 3, 4, 5, 6, 7, 8, 9, 10, 11, 12, 13, 14, 15, 16, 17, 18, 19, 20]\n"
     ]
    }
   ],
   "source": [
    "nueva_lista = list(mi_tupla)\n",
    "print(nueva_lista)"
   ]
  },
  {
   "attachments": {},
   "cell_type": "markdown",
   "metadata": {},
   "source": [
    "22) Desempaquetar solo los primeros 3 elementos de la tupla en 3 variables"
   ]
  },
  {
   "cell_type": "code",
   "execution_count": 72,
   "metadata": {},
   "outputs": [
    {
     "name": "stdout",
     "output_type": "stream",
     "text": [
      "1\n",
      "2\n",
      "3\n"
     ]
    }
   ],
   "source": [
    "v1, v2, v3, _, _, _, _, _, _, _, _, _, _, _, _, _, _, _, _, _ = mi_tupla\n",
    "\n",
    "print(v1)\n",
    "print(v2)\n",
    "print(v3)"
   ]
  },
  {
   "cell_type": "code",
   "execution_count": null,
   "metadata": {},
   "outputs": [],
   "source": [
    "una_tupla = 1,2,3\n",
    "\n",
    "variable1, variable2, variable3 = una_tupla\n",
    "\n",
    "print(variable1)\n",
    "print(variable2)\n",
    "print(variable3)"
   ]
  },
  {
   "attachments": {},
   "cell_type": "markdown",
   "metadata": {},
   "source": [
    "23) Crear un diccionario utilizando la lista crada en el punto 1, asignandole la clave \"ciudad\". Agregar tambien otras claves, como puede ser \"Pais\" y \"Continente\"."
   ]
  },
  {
   "cell_type": "code",
   "execution_count": 25,
   "metadata": {},
   "outputs": [
    {
     "name": "stdout",
     "output_type": "stream",
     "text": [
      "{'ciudad0': 'Bogotá', 'ciudad1': 'Santiago de Chile', 'ciudad2': 'Ushuaia', 'ciudad3': 'Moscú', 'ciudad4': 'Londres', 'ciudad5': 'Boston', 'ciudad6': 'Sidney', 'ciudad7': 'Seúl', 'ciudad8': 'Busan', 'ciudad9': 'Tokio', 'ciudad10': 'Prípiat', 'ciudad11': 'Toronto', 'ciudad12': 'Ciudad de México', 'ciudad13': 'La Habana', 'ciudad14': 'El Cairo', 'ciudad15': 'París'}\n"
     ]
    }
   ],
   "source": [
    "ciudades_dicc = {}\n",
    "\n",
    "count = 0\n",
    "\n",
    "while (count < len(ciudades)):\n",
    "    ciudades_dicc[f'ciudad{count}'] = ciudades[count]\n",
    "    count += 1\n",
    "\n",
    "print(ciudades_dicc)\n",
    "\n"
   ]
  },
  {
   "attachments": {},
   "cell_type": "markdown",
   "metadata": {},
   "source": [
    "24) Imprimir las claves del diccionario"
   ]
  },
  {
   "cell_type": "code",
   "execution_count": 27,
   "metadata": {},
   "outputs": [
    {
     "name": "stdout",
     "output_type": "stream",
     "text": [
      "dict_keys(['ciudad0', 'ciudad1', 'ciudad2', 'ciudad3', 'ciudad4', 'ciudad5', 'ciudad6', 'ciudad7', 'ciudad8', 'ciudad9', 'ciudad10', 'ciudad11', 'ciudad12', 'ciudad13', 'ciudad14', 'ciudad15'])\n"
     ]
    }
   ],
   "source": [
    "print(ciudades_dicc.keys())"
   ]
  },
  {
   "attachments": {},
   "cell_type": "markdown",
   "metadata": {},
   "source": [
    "25) Imprimir las ciudades a través de su clave"
   ]
  },
  {
   "cell_type": "code",
   "execution_count": 36,
   "metadata": {},
   "outputs": [
    {
     "name": "stdout",
     "output_type": "stream",
     "text": [
      "Bogotá\n",
      "Santiago de Chile\n",
      "Ushuaia\n",
      "Moscú\n",
      "Londres\n",
      "Boston\n",
      "Sidney\n",
      "Seúl\n",
      "Busan\n",
      "Tokio\n",
      "Prípiat\n",
      "Toronto\n",
      "Ciudad de México\n",
      "La Habana\n",
      "El Cairo\n",
      "París\n"
     ]
    }
   ],
   "source": [
    "c = 0\n",
    "maximo = len(ciudades_dicc)\n",
    "en_array = list(ciudades_dicc.keys())\n",
    "\n",
    "\n",
    "while(c < maximo):\n",
    "    print(ciudades_dicc[en_array[c]])\n",
    "    c += 1\n",
    "\n"
   ]
  }
 ],
 "metadata": {
  "interpreter": {
   "hash": "c85384e4cb51c8b72350f3a8712cc8351fdc3955e32a27f9b60c6242ab125f01"
  },
  "kernelspec": {
   "display_name": "Python 3 (ipykernel)",
   "language": "python",
   "name": "python3"
  },
  "language_info": {
   "codemirror_mode": {
    "name": "ipython",
    "version": 3
   },
   "file_extension": ".py",
   "mimetype": "text/x-python",
   "name": "python",
   "nbconvert_exporter": "python",
   "pygments_lexer": "ipython3",
   "version": "3.11.3"
  }
 },
 "nbformat": 4,
 "nbformat_minor": 4
}
