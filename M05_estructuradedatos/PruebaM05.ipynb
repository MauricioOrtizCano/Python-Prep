{
 "cells": [
  {
   "cell_type": "code",
   "execution_count": 8,
   "metadata": {},
   "outputs": [
    {
     "name": "stdout",
     "output_type": "stream",
     "text": [
      "['a', 'e', 'i', 'o', 'u']\n",
      "['e', 'i']\n",
      "['e', 'i', 'o', 'u']\n",
      "['a', 'e', 'i', 'o']\n"
     ]
    }
   ],
   "source": [
    "lista_like_array = [\"a\", \"e\", \"i\", \"o\", \"u\"]\n",
    "\n",
    "print(lista_like_array)\n",
    "\n",
    "print(lista_like_array[1:3])\n",
    "\n",
    "print(lista_like_array[1:])\n",
    "\n",
    "print(lista_like_array[:4])\n",
    "\n",
    "lista_like_array.extend()"
   ]
  },
  {
   "cell_type": "code",
   "execution_count": 2,
   "metadata": {},
   "outputs": [
    {
     "data": {
      "text/plain": [
       "list"
      ]
     },
     "execution_count": 2,
     "metadata": {},
     "output_type": "execute_result"
    }
   ],
   "source": [
    "type(lista_like_array)"
   ]
  },
  {
   "cell_type": "code",
   "execution_count": 3,
   "metadata": {},
   "outputs": [
    {
     "name": "stdout",
     "output_type": "stream",
     "text": [
      "L\n"
     ]
    }
   ],
   "source": [
    "un_str = \"Lorem ipsum\"\n",
    "print(un_str[0])"
   ]
  },
  {
   "cell_type": "code",
   "execution_count": 43,
   "metadata": {},
   "outputs": [
    {
     "name": "stdout",
     "output_type": "stream",
     "text": [
      "['a', 'b', 'c', 'd', 'e', 'f', 'g', 'h', 'i', 'j', 'k', 'l', 'm', 'n', 'o', 'p', 'q', 'r', 's', 't', 'u', 'v', 'x', 'y', 'z']\n",
      "['a', 'b', 'c', 'd', 'e', 'f', 'g', 'h', 'i', 'j', 'k', 'l', 'm', 'n', 'ñ', 'o', 'p', 'q', 'r', 's', 't', 'u', 'v', 'x', 'y', 'z']\n"
     ]
    },
    {
     "data": {
      "text/plain": [
       "5"
      ]
     },
     "execution_count": 43,
     "metadata": {},
     "output_type": "execute_result"
    }
   ],
   "source": [
    "lista1 = ['a', 'b', 'c', 'd', 'e', 'f', 'g', 'h', 'i', 'j', 'k']\n",
    "lista2 = ['l', 'm', 'n', 'o', 'p', 'q', 'r', 's', 't', 'u', 'v', 'x', 'y', 'z']\n",
    "\n",
    "lista1.extend(lista2)\n",
    "\n",
    "print(lista1)\n",
    "\n",
    "lista1.insert(14, \"ñ\")\n",
    "\n",
    "print(lista1)\n",
    "\n",
    "lista1.index(\"f\")"
   ]
  },
  {
   "cell_type": "code",
   "execution_count": 20,
   "metadata": {},
   "outputs": [
    {
     "name": "stdout",
     "output_type": "stream",
     "text": [
      "[1, 2, 3, 4, 5, 6, 7, 8, 9]\n",
      "[1, 2, 3, 4, 5, 6, 7, 9]\n",
      "[1, 2, 3, 4, 5, 6, 7]\n",
      "9\n",
      "[]\n"
     ]
    }
   ],
   "source": [
    "numeros = [1,2,3,4,4,5,6,7,8,9]\n",
    "numeros.remove(4)\n",
    "print(numeros)\n",
    "numeros.pop(7)\n",
    "print(numeros)\n",
    "un_numero = numeros.pop()\n",
    "print(numeros)\n",
    "print(un_numero)\n",
    "numeros.clear()\n",
    "print(numeros)"
   ]
  },
  {
   "cell_type": "code",
   "execution_count": 45,
   "metadata": {},
   "outputs": [
    {
     "data": {
      "text/plain": [
       "2"
      ]
     },
     "execution_count": 45,
     "metadata": {},
     "output_type": "execute_result"
    }
   ],
   "source": [
    "nombres = [\"Leidy\", \"Paola\", \"Paula\", \"Angie\", \"Leidy\", \"Sofia\", \"Sofia\", \"sofia\", \"Daniela\"]\n",
    "\n",
    "nombres.count(\"Sofia\")"
   ]
  },
  {
   "cell_type": "code",
   "execution_count": 9,
   "metadata": {},
   "outputs": [
    {
     "name": "stdout",
     "output_type": "stream",
     "text": [
      "[98, 98, 75, 75, 63, 54, 52, 45, 8, 8, 7, 7, 6, 6, 5, 5, 5, 4, 4, 4, 4, 3, 2, 1, 1]\n"
     ]
    },
    {
     "data": {
      "text/plain": [
       "True"
      ]
     },
     "execution_count": 9,
     "metadata": {},
     "output_type": "execute_result"
    }
   ],
   "source": [
    "ordenar = [4,5,7,8,98,63,5,4,2,1,45,75,8,7,4,5,6,52,1,4,54,75,98,6,3]\n",
    "\n",
    "ordenar.sort(reverse=True)\n",
    "\n",
    "print(ordenar)\n",
    "\n",
    "4 in ordenar"
   ]
  },
  {
   "cell_type": "code",
   "execution_count": 4,
   "metadata": {},
   "outputs": [
    {
     "name": "stdout",
     "output_type": "stream",
     "text": [
      "(98, 98, 75, 75, 63, 54, 52, 45, 8, 8, 7, 7, 6, 6, 5, 5, 5, 4, 4, 4, 4, 3, 2, 1, 1)\n"
     ]
    },
    {
     "data": {
      "text/plain": [
       "98"
      ]
     },
     "execution_count": 4,
     "metadata": {},
     "output_type": "execute_result"
    }
   ],
   "source": [
    "mi_tupla = tuple(ordenar)\n",
    "\n",
    "print(mi_tupla)\n",
    "\n",
    "mi_tupla[0]"
   ]
  },
  {
   "cell_type": "code",
   "execution_count": 8,
   "metadata": {},
   "outputs": [
    {
     "data": {
      "text/plain": [
       "True"
      ]
     },
     "execution_count": 8,
     "metadata": {},
     "output_type": "execute_result"
    }
   ],
   "source": [
    "98 in mi_tupla"
   ]
  },
  {
   "cell_type": "code",
   "execution_count": 11,
   "metadata": {},
   "outputs": [
    {
     "data": {
      "text/plain": [
       "3"
      ]
     },
     "execution_count": 11,
     "metadata": {},
     "output_type": "execute_result"
    }
   ],
   "source": [
    "mi_tupla.count(5)"
   ]
  },
  {
   "cell_type": "code",
   "execution_count": 12,
   "metadata": {},
   "outputs": [
    {
     "name": "stdout",
     "output_type": "stream",
     "text": [
      "(4, 'Emmanuel', True)\n"
     ]
    }
   ],
   "source": [
    "segunda_tupla = 4, \"Emmanuel\", True\n",
    "\n",
    "print(segunda_tupla)"
   ]
  },
  {
   "cell_type": "code",
   "execution_count": 15,
   "metadata": {},
   "outputs": [
    {
     "name": "stdout",
     "output_type": "stream",
     "text": [
      "Nombre: Emmanuel Años: 4 Masculino: True\n"
     ]
    }
   ],
   "source": [
    "años, nombre, masculino = segunda_tupla\n",
    "\n",
    "print(\"Nombre:\", nombre, \"Años:\", años, \"Masculino:\", masculino)"
   ]
  },
  {
   "cell_type": "code",
   "execution_count": 26,
   "metadata": {},
   "outputs": [],
   "source": [
    "mi_informacion = {\n",
    "    'Nombres': 'Cristian',\n",
    "    'Apellidos': 'Ortiz',\n",
    "    'Casado': True,\n",
    "    'Hijos': 1,\n",
    "    'Estudios':[\n",
    "            {'Nombre': 'Tecnologo en Gestion Logistica', 'Año': 2019},\n",
    "            {'Nombre': 'Ingenieria Industrial', 'Año': 2021},\n",
    "            {'Nombre': 'Desarrollo Full Stack', 'Año': 2022}\n",
    "        ]\n",
    "}"
   ]
  },
  {
   "cell_type": "code",
   "execution_count": 27,
   "metadata": {},
   "outputs": [
    {
     "name": "stdout",
     "output_type": "stream",
     "text": [
      "{'Nombres': 'Cristian', 'Apellidos': 'Ortiz', 'Casado': True, 'Hijos': 1, 'Estudios': [{'Nombre': 'Tecnologo en Gestion Logistica', 'Año': 2019}, {'Nombre': 'Ingenieria Industrial', 'Año': 2021}, {'Nombre': 'Desarrollo Full Stack', 'Año': 2022}]}\n"
     ]
    }
   ],
   "source": [
    "print(mi_informacion)"
   ]
  },
  {
   "cell_type": "code",
   "execution_count": 28,
   "metadata": {},
   "outputs": [
    {
     "name": "stdout",
     "output_type": "stream",
     "text": [
      "[{'Nombre': 'Tecnologo en Gestion Logistica', 'Año': 2019}, {'Nombre': 'Ingenieria Industrial', 'Año': 2021}, {'Nombre': 'Desarrollo Full Stack', 'Año': 2022}]\n"
     ]
    }
   ],
   "source": [
    "print(mi_informacion['Estudios'])"
   ]
  },
  {
   "cell_type": "code",
   "execution_count": 32,
   "metadata": {},
   "outputs": [
    {
     "name": "stdout",
     "output_type": "stream",
     "text": [
      "{'Nombres': 'Cristian', 'Apellidos': 'Ortiz', 'Casado': True, 'Hijos': 1, 'Estudios': [{'Nombre': 'Tecnologo en Gestion Logistica', 'Año': 2019}, {'Nombre': 'Ingenieria Industrial', 'Año': 2021}, {'Nombre': 'Desarrollo Full Stack', 'Año': 2022}], 'Edad': 30.5}\n"
     ]
    }
   ],
   "source": [
    "mi_informacion['Edad'] = 30.5\n",
    "\n",
    "print(mi_informacion)"
   ]
  },
  {
   "cell_type": "code",
   "execution_count": 46,
   "metadata": {},
   "outputs": [
    {
     "name": "stdout",
     "output_type": "stream",
     "text": [
      "Nombres\n"
     ]
    }
   ],
   "source": [
    "llaves = list(mi_informacion.keys())\n",
    "\n",
    "print(llaves[0])"
   ]
  },
  {
   "cell_type": "code",
   "execution_count": 48,
   "metadata": {},
   "outputs": [
    {
     "name": "stdout",
     "output_type": "stream",
     "text": [
      "[{'Nombre': 'Tecnologo en Gestion Logistica', 'Año': 2019}, {'Nombre': 'Ingenieria Industrial', 'Año': 2021}, {'Nombre': 'Desarrollo Full Stack', 'Año': 2022}]\n"
     ]
    }
   ],
   "source": [
    "valores = list(mi_informacion.values())\n",
    "\n",
    "print(valores[4])"
   ]
  },
  {
   "cell_type": "code",
   "execution_count": 55,
   "metadata": {},
   "outputs": [
    {
     "name": "stdout",
     "output_type": "stream",
     "text": [
      "('Edad', 30.5)\n"
     ]
    }
   ],
   "source": [
    "items = list(mi_informacion.items())\n",
    "\n",
    "print(items[len(items)-1])"
   ]
  },
  {
   "cell_type": "code",
   "execution_count": 1,
   "metadata": {},
   "outputs": [
    {
     "name": "stdout",
     "output_type": "stream",
     "text": [
      "ciudad1\n",
      "ciudad2\n",
      "ciudad3\n"
     ]
    }
   ],
   "source": [
    "ciudades_dicc = {\n",
    "    'ciudad1': {\n",
    "        'nombre': 'santiago',\n",
    "        'pais': 'Chile'\n",
    "    },\n",
    "    'ciudad2': {\n",
    "        'nombre': 'bogota',\n",
    "        'pais': 'Colombia'\n",
    "    },\n",
    "    'ciudad3': {\n",
    "        'nombre': 'Sidney',\n",
    "        'pais': 'Australia'\n",
    "    }\n",
    "}\n",
    "\n",
    "\n",
    "for i in ciudades_dicc:\n",
    "    print(i)"
   ]
  }
 ],
 "metadata": {
  "kernelspec": {
   "display_name": "Python 3",
   "language": "python",
   "name": "python3"
  },
  "language_info": {
   "codemirror_mode": {
    "name": "ipython",
    "version": 3
   },
   "file_extension": ".py",
   "mimetype": "text/x-python",
   "name": "python",
   "nbconvert_exporter": "python",
   "pygments_lexer": "ipython3",
   "version": "3.11.3"
  }
 },
 "nbformat": 4,
 "nbformat_minor": 2
}
