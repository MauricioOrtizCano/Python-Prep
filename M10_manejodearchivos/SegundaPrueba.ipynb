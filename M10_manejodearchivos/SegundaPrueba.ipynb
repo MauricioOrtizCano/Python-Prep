{
 "cells": [
  {
   "cell_type": "code",
   "execution_count": 1,
   "metadata": {},
   "outputs": [],
   "source": [
    "import os\n",
    "\n",
    "os.makedirs('carpeta_nueva')"
   ]
  },
  {
   "cell_type": "code",
   "execution_count": 2,
   "metadata": {},
   "outputs": [
    {
     "data": {
      "text/plain": [
       "['carpeta_nueva',\n",
       " 'clase09_ej1.py',\n",
       " 'clase09_ej2.csv',\n",
       " 'clase09_ej2.py',\n",
       " 'clase09_montañas_altas',\n",
       " 'datos.txt',\n",
       " 'ejemplo_parametros.py',\n",
       " 'Prep_Course_Homework_09-Resuelto.ipynb',\n",
       " 'Prep_Course_Homework_09-Resuelto.py',\n",
       " 'Prep_Course_Homework_09.md',\n",
       " 'PruebaM10.py',\n",
       " 'SegundaPrueba.ipynb',\n",
       " '__pycache__']"
      ]
     },
     "execution_count": 2,
     "metadata": {},
     "output_type": "execute_result"
    }
   ],
   "source": [
    "os.listdir('./') #Obtiene la lista de archivos que hay en la carpeta en la que se encuentra el archivo donde estoy trabajando"
   ]
  },
  {
   "cell_type": "code",
   "execution_count": 3,
   "metadata": {},
   "outputs": [
    {
     "data": {
      "text/plain": [
       "'c:\\\\Users\\\\USER\\\\Documents\\\\Todos Mis documentos\\\\Curso python\\\\Python Henry\\\\Python-Prep\\\\M10_manejodearchivos'"
      ]
     },
     "execution_count": 3,
     "metadata": {},
     "output_type": "execute_result"
    }
   ],
   "source": [
    "os.getcwd() #Obtiene la ruta actual en la que estoy"
   ]
  },
  {
   "cell_type": "code",
   "execution_count": 5,
   "metadata": {},
   "outputs": [
    {
     "data": {
      "text/plain": [
       "3010"
      ]
     },
     "execution_count": 5,
     "metadata": {},
     "output_type": "execute_result"
    }
   ],
   "source": [
    "os.path.getsize('SegundaPrueba.ipynb') #Obtiene el tamaño del archivo pasado por parametro"
   ]
  },
  {
   "cell_type": "code",
   "execution_count": 6,
   "metadata": {},
   "outputs": [
    {
     "data": {
      "text/plain": [
       "True"
      ]
     },
     "execution_count": 6,
     "metadata": {},
     "output_type": "execute_result"
    }
   ],
   "source": [
    "os.path.isfile('SegundaPrueba.ipynb') #Verifica si el argumento pasado es un archivo"
   ]
  },
  {
   "cell_type": "code",
   "execution_count": 9,
   "metadata": {},
   "outputs": [
    {
     "data": {
      "text/plain": [
       "False"
      ]
     },
     "execution_count": 9,
     "metadata": {},
     "output_type": "execute_result"
    }
   ],
   "source": [
    "os.path.isdir('SegundaPrueba.ipynb') #Verifica si es una carpeta o directorio"
   ]
  },
  {
   "cell_type": "code",
   "execution_count": 10,
   "metadata": {},
   "outputs": [],
   "source": [
    "os.rename('SegundaPrueba.ipynb', 'SegundaPrueba_M10.ipynb')"
   ]
  }
 ],
 "metadata": {
  "kernelspec": {
   "display_name": "Python 3",
   "language": "python",
   "name": "python3"
  },
  "language_info": {
   "codemirror_mode": {
    "name": "ipython",
    "version": 3
   },
   "file_extension": ".py",
   "mimetype": "text/x-python",
   "name": "python",
   "nbconvert_exporter": "python",
   "pygments_lexer": "ipython3",
   "version": "3.11.3"
  }
 },
 "nbformat": 4,
 "nbformat_minor": 2
}
