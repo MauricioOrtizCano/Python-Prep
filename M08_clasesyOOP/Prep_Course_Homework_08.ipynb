{
 "cells": [
  {
   "attachments": {},
   "cell_type": "markdown",
   "metadata": {},
   "source": [
    "## Clases y Programación Orientada a Objetos"
   ]
  },
  {
   "attachments": {},
   "cell_type": "markdown",
   "metadata": {},
   "source": [
    "1) Crear la clase vehículo que contenga los atributos:<br>\n",
    "Color<br>\n",
    "Si es moto, auto, camioneta ó camión<br>\n",
    "Cilindrada del motor"
   ]
  },
  {
   "cell_type": "code",
   "execution_count": 3,
   "metadata": {},
   "outputs": [],
   "source": [
    "class Vehiculo:\n",
    "    '''\n",
    "    Establece la clase vehículo\n",
    "    '''\n",
    "\n",
    "    def __init__(self, color, tipo, cilindrada):\n",
    "        self.color = color\n",
    "        self.tipo = tipo\n",
    "        self.cilindrada = cilindrada"
   ]
  },
  {
   "attachments": {},
   "cell_type": "markdown",
   "metadata": {},
   "source": [
    "2) A la clase Vehiculo creada en el punto 1, agregar los siguientes métodos:<br>\n",
    "Acelerar<br>\n",
    "Frenar<br>\n",
    "Doblar<br>"
   ]
  },
  {
   "cell_type": "code",
   "execution_count": 15,
   "metadata": {},
   "outputs": [],
   "source": [
    "class Vehiculo:\n",
    "    '''\n",
    "    Establece la clase vehículo\n",
    "    '''\n",
    "\n",
    "    def __init__(self, color, tipo, cilindrada):\n",
    "        self.color = color\n",
    "        self.tipo = tipo\n",
    "        self.cilindrada = cilindrada\n",
    "        self.velocidad = 0\n",
    "        self.direccion = 0\n",
    "\n",
    "    def acelerar(self, velocidad):\n",
    "        self.velocidad += velocidad\n",
    "\n",
    "    def frenar(self, velocidad):\n",
    "        self.velocidad -= velocidad\n",
    "\n",
    "    def doblar(self, grados):\n",
    "        self.direccion += grados\n",
    "        "
   ]
  },
  {
   "attachments": {},
   "cell_type": "markdown",
   "metadata": {},
   "source": [
    "3) Instanciar 3 objetos de la clase vehículo y ejecutar sus métodos, probar luego el resultado"
   ]
  },
  {
   "cell_type": "code",
   "execution_count": 16,
   "metadata": {},
   "outputs": [],
   "source": [
    "ducati_scrambler = Vehiculo('black', 'moto', 803)\n",
    "\n",
    "range_rober_evoque = Vehiculo('red', 'camioneta', 1997)\n",
    "\n",
    "bmw_serie_8 = Vehiculo('orange', 'carro', 5576)\n"
   ]
  },
  {
   "cell_type": "code",
   "execution_count": 17,
   "metadata": {},
   "outputs": [
    {
     "name": "stdout",
     "output_type": "stream",
     "text": [
      "80 km/h\n",
      "-10 Grados\n"
     ]
    }
   ],
   "source": [
    "range_rober_evoque.acelerar(100)\n",
    "range_rober_evoque.frenar(20)\n",
    "range_rober_evoque.doblar(30)\n",
    "range_rober_evoque.doblar(-40)\n",
    "\n",
    "print(f'{range_rober_evoque.velocidad} km/h')\n",
    "print(f'{range_rober_evoque.direccion} Grados')\n",
    "\n"
   ]
  },
  {
   "attachments": {},
   "cell_type": "markdown",
   "metadata": {},
   "source": [
    "4) Agregar a la clase Vehiculo, un método que muestre su estado, es decir, a que velocidad se encuentra y su dirección. Y otro método que muestre color, tipo y cilindrada"
   ]
  },
  {
   "cell_type": "code",
   "execution_count": 21,
   "metadata": {},
   "outputs": [],
   "source": [
    "class Vehiculo:\n",
    "    '''\n",
    "    Establece la clase vehículo\n",
    "    '''\n",
    "\n",
    "    def __init__(self, color, tipo, cilindrada):\n",
    "        self.color = color\n",
    "        self.tipo = tipo\n",
    "        self.cilindrada = cilindrada\n",
    "        self.velocidad = 0\n",
    "        self.direccion = 0\n",
    "\n",
    "    def acelerar(self, velocidad):\n",
    "        self.velocidad += velocidad\n",
    "\n",
    "    def frenar(self, velocidad):\n",
    "        self.velocidad -= velocidad\n",
    "\n",
    "    def doblar(self, grados):\n",
    "        self.direccion += grados\n",
    "\n",
    "    def estado(self):\n",
    "        print(f'velocidad: {self.velocidad} km/h, dirección: {self.direccion} Grados')\n",
    "\n",
    "    def detalles(self):\n",
    "        print(f'color: {self.color}, tipo: {self.tipo}, cilindrada: {self.cilindrada}')"
   ]
  },
  {
   "cell_type": "code",
   "execution_count": 22,
   "metadata": {},
   "outputs": [
    {
     "name": "stdout",
     "output_type": "stream",
     "text": [
      "color: blue, tipo: carro, cilindrada: 6612\n",
      "velocidad: 250 km/h, dirección: 10 Grados\n"
     ]
    }
   ],
   "source": [
    "chevrolet_camaro = Vehiculo('blue', 'carro', 6612)\n",
    "\n",
    "chevrolet_camaro.acelerar(120)\n",
    "chevrolet_camaro.acelerar(70)\n",
    "chevrolet_camaro.frenar(50)\n",
    "chevrolet_camaro.acelerar(110)\n",
    "chevrolet_camaro.doblar(30)\n",
    "chevrolet_camaro.doblar(10)\n",
    "chevrolet_camaro.doblar(-70)\n",
    "chevrolet_camaro.doblar(40)\n",
    "\n",
    "chevrolet_camaro.detalles()\n",
    "chevrolet_camaro.estado()\n"
   ]
  },
  {
   "attachments": {},
   "cell_type": "markdown",
   "metadata": {},
   "source": [
    "5) Crear una clase que permita utilizar las funciones creadas en la práctica del módulo 7<br>\n",
    "Verificar Primo<br>\n",
    "Valor modal<br>\n",
    "Conversión grados<br>\n",
    "Factorial<br>"
   ]
  },
  {
   "cell_type": "code",
   "execution_count": 28,
   "metadata": {},
   "outputs": [],
   "source": [
    "class Modulo07:\n",
    "    def __init__(self) -> None:\n",
    "        pass\n",
    "\n",
    "    def es_primo(self, num):\n",
    "        '''\n",
    "        Determina si un numero es primo o no\n",
    "        '''\n",
    "        if (num == 0 or num == 1 or num == 4):\n",
    "            return False\n",
    "    \n",
    "        for i in range(2,num):\n",
    "            if(num % i == 0):\n",
    "                return False\n",
    "        \n",
    "        return True\n",
    "    \n",
    "    def repetido(self, lista):\n",
    "        '''\n",
    "        Determian cual es el numero que mas se \n",
    "        repite en una lista\n",
    "        '''\n",
    "\n",
    "        copia = []\n",
    "        obj = {}\n",
    "\n",
    "        for i in lista:\n",
    "            if not (i in copia):\n",
    "                copia.append(i)\n",
    "                cantidad = lista.count(i)\n",
    "                obj[i] = cantidad\n",
    "            else:\n",
    "                continue\n",
    "\n",
    "        mayor_llave = \"\"\n",
    "        mayor_valor = 0\n",
    "\n",
    "        for llave, valor in list(obj.items()):\n",
    "            if(mayor_llave == \"\"):\n",
    "                mayor_llave = llave\n",
    "                mayor_valor = valor\n",
    "            else:\n",
    "                if(mayor_valor < valor):\n",
    "                    mayor_llave = llave\n",
    "                    mayor_valor = valor\n",
    "                else:\n",
    "                    continue\n",
    "\n",
    "        return mayor_llave, mayor_valor\n",
    "    \n",
    "    def conversion_temperatura (self, valor, me_origen, me_destino):\n",
    "        if(me_origen == \"°C\"):\n",
    "            if(me_destino == \"°F\"):\n",
    "                to_far = (valor * 9/5) + 32\n",
    "                return f'{to_far} °F'\n",
    "            else:\n",
    "                to_kel = (valor + 273.15)\n",
    "                return f'{to_kel} °K'\n",
    "        elif(me_origen == \"°F\"):\n",
    "            if(me_destino == \"°C\"):\n",
    "                to_ce = (valor - 32) * 5/9\n",
    "                return f'{to_ce} °C'\n",
    "            else:\n",
    "                to_kelv = (valor - 32) * 5/9 + 273.15\n",
    "                return f'{to_kelv} °K'\n",
    "        else:\n",
    "            if(me_destino == \"°C\"):\n",
    "                to_cel = valor - 273.15\n",
    "                return f'{to_cel} °C'\n",
    "            else:\n",
    "                to_fare = (valor - 273.15) * 9/5 + 32\n",
    "                return f'{to_fare} °F'\n",
    "            \n",
    "    def factorial(self, num):\n",
    "        if(num < 0 or type(num) != int):\n",
    "            return \"Debe ser un numero entero positivo\"\n",
    "    \n",
    "        if (num <= 1):\n",
    "            return 1\n",
    "    \n",
    "        num = num * self.factorial(num-1)\n",
    "\n",
    "        return num"
   ]
  },
  {
   "attachments": {},
   "cell_type": "markdown",
   "metadata": {},
   "source": [
    "6) Probar las funciones incorporadas en la clase del punto 5"
   ]
  },
  {
   "cell_type": "code",
   "execution_count": 30,
   "metadata": {},
   "outputs": [
    {
     "name": "stdout",
     "output_type": "stream",
     "text": [
      "120\n"
     ]
    }
   ],
   "source": [
    "resultados = Modulo07()\n",
    "\n",
    "print(resultados.factorial(5))"
   ]
  },
  {
   "attachments": {},
   "cell_type": "markdown",
   "metadata": {},
   "source": [
    "7) Es necesario que la clase creada en el punto 5 contenga una lista, sobre la cual se apliquen las funciones incorporadas"
   ]
  },
  {
   "cell_type": "code",
   "execution_count": 31,
   "metadata": {},
   "outputs": [],
   "source": [
    "class Modulo07:\n",
    "    def __init__(self, lista):\n",
    "        self.lista = lista\n",
    "\n",
    "    def es_primo(self, num):\n",
    "        '''\n",
    "        Determina si un numero es primo o no\n",
    "        '''\n",
    "        if (num == 0 or num == 1 or num == 4):\n",
    "            return False\n",
    "    \n",
    "        for i in range(2,num):\n",
    "            if(num % i == 0):\n",
    "                return False\n",
    "        \n",
    "        return True\n",
    "    \n",
    "    def repetido(self):\n",
    "        '''\n",
    "        Determian cual es el numero que mas se \n",
    "        repite en una lista\n",
    "        '''\n",
    "\n",
    "        copia = []\n",
    "        obj = {}\n",
    "\n",
    "        for i in self.lista:\n",
    "            if not (i in copia):\n",
    "                copia.append(i)\n",
    "                cantidad = self.lista.count(i)\n",
    "                obj[i] = cantidad\n",
    "            else:\n",
    "                continue\n",
    "\n",
    "        mayor_llave = \"\"\n",
    "        mayor_valor = 0\n",
    "\n",
    "        for llave, valor in list(obj.items()):\n",
    "            if(mayor_llave == \"\"):\n",
    "                mayor_llave = llave\n",
    "                mayor_valor = valor\n",
    "            else:\n",
    "                if(mayor_valor < valor):\n",
    "                    mayor_llave = llave\n",
    "                    mayor_valor = valor\n",
    "                else:\n",
    "                    continue\n",
    "\n",
    "        return mayor_llave, mayor_valor\n",
    "    \n",
    "    def conversion_temperatura (self, valor, me_origen, me_destino):\n",
    "        if(me_origen == \"°C\"):\n",
    "            if(me_destino == \"°F\"):\n",
    "                to_far = (valor * 9/5) + 32\n",
    "                return f'{to_far} °F'\n",
    "            else:\n",
    "                to_kel = (valor + 273.15)\n",
    "                return f'{to_kel} °K'\n",
    "        elif(me_origen == \"°F\"):\n",
    "            if(me_destino == \"°C\"):\n",
    "                to_ce = (valor - 32) * 5/9\n",
    "                return f'{to_ce} °C'\n",
    "            else:\n",
    "                to_kelv = (valor - 32) * 5/9 + 273.15\n",
    "                return f'{to_kelv} °K'\n",
    "        else:\n",
    "            if(me_destino == \"°C\"):\n",
    "                to_cel = valor - 273.15\n",
    "                return f'{to_cel} °C'\n",
    "            else:\n",
    "                to_fare = (valor - 273.15) * 9/5 + 32\n",
    "                return f'{to_fare} °F'\n",
    "            \n",
    "    def factorial(self, num):\n",
    "        if(num < 0 or type(num) != int):\n",
    "            return \"Debe ser un numero entero positivo\"\n",
    "    \n",
    "        if (num <= 1):\n",
    "            return 1\n",
    "    \n",
    "        num = num * self.factorial(num-1)\n",
    "\n",
    "        return num"
   ]
  },
  {
   "cell_type": "code",
   "execution_count": 32,
   "metadata": {},
   "outputs": [
    {
     "name": "stdout",
     "output_type": "stream",
     "text": [
      "(16, 3)\n"
     ]
    }
   ],
   "source": [
    "moda = Modulo07([1,1,2,5,8,8,9,11,15,16,16,16,18,20])\n",
    "\n",
    "print(moda.repetido())"
   ]
  },
  {
   "attachments": {},
   "cell_type": "markdown",
   "metadata": {},
   "source": [
    "8) Crear un archivo .py aparte y ubicar allí la clase generada en el punto anterior. Luego realizar la importación del módulo y probar alguna de sus funciones"
   ]
  },
  {
   "cell_type": "code",
   "execution_count": 34,
   "metadata": {},
   "outputs": [
    {
     "name": "stdout",
     "output_type": "stream",
     "text": [
      "100.4 °F\n"
     ]
    }
   ],
   "source": [
    "from Calculadora import CalculadoraM08 as CM08\n",
    "\n",
    "conversion = CM08([1,2])\n",
    "\n",
    "print(conversion.conversion_temperatura(38, \"°C\", \"°F\"))"
   ]
  }
 ],
 "metadata": {
  "interpreter": {
   "hash": "c85384e4cb51c8b72350f3a8712cc8351fdc3955e32a27f9b60c6242ab125f01"
  },
  "kernelspec": {
   "display_name": "Python 3 (ipykernel)",
   "language": "python",
   "name": "python3"
  },
  "language_info": {
   "codemirror_mode": {
    "name": "ipython",
    "version": 3
   },
   "file_extension": ".py",
   "mimetype": "text/x-python",
   "name": "python",
   "nbconvert_exporter": "python",
   "pygments_lexer": "ipython3",
   "version": "3.11.3"
  }
 },
 "nbformat": 4,
 "nbformat_minor": 4
}
