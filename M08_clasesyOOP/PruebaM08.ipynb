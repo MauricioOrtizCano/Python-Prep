{
 "cells": [
  {
   "cell_type": "code",
   "execution_count": 5,
   "metadata": {},
   "outputs": [],
   "source": [
    "class Persona:\n",
    "    '''\n",
    "    En esta clase determina los nombres de los alumnos\n",
    "    '''\n",
    "\n",
    "    def __init__(self, nombre, edad, carrera, graduado):\n",
    "        self.nombre = nombre\n",
    "        self.edad = edad\n",
    "        self.carrera = carrera\n",
    "        self.graduado = graduado\n",
    "\n",
    "    def saludo(self):\n",
    "        print (f'Hola soy {self.nombre}, estoy estudiando {self.carrera} y tengo {self.edad} años')\n",
    "\n",
    "    def seGraduo(self):\n",
    "        self.graduado = True\n",
    "\n",
    "    "
   ]
  },
  {
   "cell_type": "code",
   "execution_count": 6,
   "metadata": {},
   "outputs": [
    {
     "name": "stdout",
     "output_type": "stream",
     "text": [
      "Ingeniería Industrial\n",
      "False\n"
     ]
    }
   ],
   "source": [
    "cristian = Persona('Cristian Ortiz', 28, 'Ingeniería Industrial', False)\n",
    "print(cristian.carrera)\n",
    "print(cristian.graduado)"
   ]
  },
  {
   "cell_type": "code",
   "execution_count": 8,
   "metadata": {},
   "outputs": [
    {
     "name": "stdout",
     "output_type": "stream",
     "text": [
      "Alejandra Martinez\n",
      "22\n"
     ]
    }
   ],
   "source": [
    "alejandra = Persona('Alejandra Martinez', 22, 'Negocios Internacionales', False)\n",
    "print(alejandra.nombre)\n",
    "print(alejandra.edad)"
   ]
  },
  {
   "cell_type": "code",
   "execution_count": 9,
   "metadata": {},
   "outputs": [],
   "source": [
    "class Profesor(Persona):\n",
    "    '''\n",
    "    Herencia de la clase Persona\n",
    "    '''\n",
    "    def presentarse(self):\n",
    "        print(f'Hola estudiantes, soy el profesor {self.nombre}, su profesor de Calculo')\n",
    "    def regañar(self):\n",
    "        print(\"Porque no hicieron la tarea\")\n",
    "    "
   ]
  },
  {
   "cell_type": "code",
   "execution_count": 15,
   "metadata": {},
   "outputs": [
    {
     "name": "stdout",
     "output_type": "stream",
     "text": [
      "Alberto Sanchez\n",
      "<bound method Profesor.regañar of <__main__.Profesor object at 0x0000015D9504C310>>\n"
     ]
    }
   ],
   "source": [
    "alberto = Profesor(\"Alberto Sanchez\", 39, None, None)\n",
    "print(alberto.nombre)\n",
    "print(alberto.regañar)"
   ]
  },
  {
   "cell_type": "code",
   "execution_count": null,
   "metadata": {},
   "outputs": [],
   "source": []
  }
 ],
 "metadata": {
  "kernelspec": {
   "display_name": "Python 3",
   "language": "python",
   "name": "python3"
  },
  "language_info": {
   "codemirror_mode": {
    "name": "ipython",
    "version": 3
   },
   "file_extension": ".py",
   "mimetype": "text/x-python",
   "name": "python",
   "nbconvert_exporter": "python",
   "pygments_lexer": "ipython3",
   "version": "3.11.3"
  }
 },
 "nbformat": 4,
 "nbformat_minor": 2
}
