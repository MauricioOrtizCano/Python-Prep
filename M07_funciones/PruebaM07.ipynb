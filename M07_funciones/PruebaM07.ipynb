{
 "cells": [
  {
   "cell_type": "code",
   "execution_count": 2,
   "metadata": {},
   "outputs": [
    {
     "name": "stdout",
     "output_type": "stream",
     "text": [
      "24 es un numero par\n",
      "54 es un numero par\n",
      "51 es un numero impar\n",
      "81 es un numero impar\n",
      "87 es un numero impar\n",
      "59 es un numero impar\n",
      "35 es un numero impar\n",
      "30 es un numero par\n",
      "64 es un numero par\n"
     ]
    }
   ],
   "source": [
    "def es_par(num):\n",
    "    '''\n",
    "    Determian si una función es par o impar\n",
    "    '''\n",
    "    if(num % 2 == 0):\n",
    "        return f'{num} es un numero par'\n",
    "    else:\n",
    "        return f'{num} es un numero impar'\n",
    "    \n",
    "numeros = [24, 54, 51, 81, 87, 59, 35, 30, 64]\n",
    "\n",
    "for i in numeros:\n",
    "    print(es_par(i))"
   ]
  },
  {
   "cell_type": "code",
   "execution_count": 3,
   "metadata": {},
   "outputs": [
    {
     "name": "stdout",
     "output_type": "stream",
     "text": [
      "Help on function es_par in module __main__:\n",
      "\n",
      "es_par(num)\n",
      "    Determian si una función es par o impar\n",
      "\n"
     ]
    }
   ],
   "source": [
    "help(es_par)"
   ]
  },
  {
   "cell_type": "code",
   "execution_count": 5,
   "metadata": {},
   "outputs": [
    {
     "name": "stdout",
     "output_type": "stream",
     "text": [
      "None\n"
     ]
    }
   ],
   "source": [
    "x = 10\n",
    "def funcion(entrada):\n",
    "    entrada = 0\n",
    "print(funcion(x))"
   ]
  },
  {
   "cell_type": "code",
   "execution_count": 7,
   "metadata": {},
   "outputs": [
    {
     "name": "stdout",
     "output_type": "stream",
     "text": [
      "140721393952136\n",
      "140721393951496\n"
     ]
    }
   ],
   "source": [
    "x = 20\n",
    "print(id(x))\n",
    "\n",
    "def funcion(entrada):\n",
    "    entrada = 0\n",
    "    print(id(entrada))\n",
    "\n",
    "funcion(x)"
   ]
  },
  {
   "cell_type": "code",
   "execution_count": 11,
   "metadata": {},
   "outputs": [
    {
     "name": "stdout",
     "output_type": "stream",
     "text": [
      "2358174829888\n",
      "2358174786816\n",
      "[10, 20, 30, 40, 50]\n",
      "[20, 30, 40, 50]\n"
     ]
    }
   ],
   "source": [
    "y = [20,30,40,50]\n",
    "print(id(y))\n",
    "\n",
    "def some_funcion(entrada):\n",
    "    # entrada.insert(0,10) # Si es modificada con un metodo no cambia la variable en el entorno global\n",
    "    entrada = [10,20,30,40,50] # Si es modificada con un igual, si son diferentes en el entorno global\n",
    "    print(id(entrada))\n",
    "    print(entrada)\n",
    "\n",
    "some_funcion(y)\n",
    "print(y)"
   ]
  },
  {
   "cell_type": "code",
   "execution_count": 12,
   "metadata": {},
   "outputs": [
    {
     "data": {
      "text/plain": [
       "0"
      ]
     },
     "execution_count": 12,
     "metadata": {},
     "output_type": "execute_result"
    }
   ],
   "source": [
    "2%2"
   ]
  },
  {
   "cell_type": "code",
   "execution_count": 15,
   "metadata": {},
   "outputs": [
    {
     "data": {
      "text/plain": [
       "10"
      ]
     },
     "execution_count": 15,
     "metadata": {},
     "output_type": "execute_result"
    }
   ],
   "source": [
    "una_lista = [24, 54, 51, 81, 87, 59, 35, 30, 64, 54, 51, 81, 87, 59, 35, 54, 51, 81, 54]\n",
    "\n",
    "una_lista.index(51, 3)"
   ]
  },
  {
   "cell_type": "code",
   "execution_count": 16,
   "metadata": {},
   "outputs": [
    {
     "data": {
      "text/plain": [
       "True"
      ]
     },
     "execution_count": 16,
     "metadata": {},
     "output_type": "execute_result"
    }
   ],
   "source": [
    "51 in una_lista"
   ]
  },
  {
   "cell_type": "code",
   "execution_count": 22,
   "metadata": {},
   "outputs": [
    {
     "name": "stdout",
     "output_type": "stream",
     "text": [
      "indice = 0, elemento = 24\n",
      "indice = 1, elemento = 54\n",
      "indice = 2, elemento = 51\n",
      "indice = 3, elemento = 81\n",
      "indice = 4, elemento = 87\n",
      "indice = 5, elemento = 59\n",
      "indice = 6, elemento = 35\n",
      "indice = 7, elemento = 30\n",
      "indice = 8, elemento = 64\n",
      "indice = 9, elemento = 54\n",
      "indice = 10, elemento = 51\n",
      "indice = 11, elemento = 81\n",
      "indice = 12, elemento = 87\n",
      "indice = 13, elemento = 59\n",
      "indice = 14, elemento = 35\n"
     ]
    }
   ],
   "source": [
    "for i,e in enumerate(una_lista):\n",
    "    print(f'indice = {i}, elemento = {e}')"
   ]
  },
  {
   "cell_type": "code",
   "execution_count": 34,
   "metadata": {},
   "outputs": [
    {
     "name": "stdout",
     "output_type": "stream",
     "text": [
      "Roberta 41\n"
     ]
    }
   ],
   "source": [
    "informacion = {\n",
    "    'Ana': 25,\n",
    "    'Kelly': 28,\n",
    "    'Alfonsina': 40,\n",
    "    'Roberta': 41,\n",
    "    'Pamela':27\n",
    "}\n",
    "\n",
    "mayor_llave = \"\"\n",
    "mayor_valor = 0\n",
    "\n",
    "for llave, valor in list(informacion.items()):\n",
    "    if (mayor_llave == \"\"):\n",
    "        mayor_llave = llave\n",
    "        mayor_valor = valor\n",
    "    else:\n",
    "        if (mayor_valor < valor):\n",
    "            mayor_llave = llave\n",
    "            mayor_valor = valor\n",
    "        else:\n",
    "            continue\n",
    "\n",
    "print(mayor_llave, mayor_valor)\n",
    "\n",
    "\n"
   ]
  }
 ],
 "metadata": {
  "kernelspec": {
   "display_name": "Python 3",
   "language": "python",
   "name": "python3"
  },
  "language_info": {
   "codemirror_mode": {
    "name": "ipython",
    "version": 3
   },
   "file_extension": ".py",
   "mimetype": "text/x-python",
   "name": "python",
   "nbconvert_exporter": "python",
   "pygments_lexer": "ipython3",
   "version": "3.11.3"
  }
 },
 "nbformat": 4,
 "nbformat_minor": 2
}
