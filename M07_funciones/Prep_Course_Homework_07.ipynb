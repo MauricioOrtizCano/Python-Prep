{
 "cells": [
  {
   "attachments": {},
   "cell_type": "markdown",
   "metadata": {},
   "source": [
    "## Funciones"
   ]
  },
  {
   "attachments": {},
   "cell_type": "markdown",
   "metadata": {},
   "source": [
    "1) Crear una función que reciba un número como parámetro y devuelva True si es primo y False si no lo es"
   ]
  },
  {
   "cell_type": "code",
   "execution_count": 8,
   "metadata": {},
   "outputs": [
    {
     "data": {
      "text/plain": [
       "True"
      ]
     },
     "execution_count": 8,
     "metadata": {},
     "output_type": "execute_result"
    }
   ],
   "source": [
    "def es_primo(num):\n",
    "    '''\n",
    "    Determina si un numero es primo o no\n",
    "    '''\n",
    "    if (num == 0 or num == 1 or num == 4):\n",
    "        return False\n",
    "    \n",
    "    for i in range(2,num):\n",
    "        if(num % i == 0):\n",
    "            return False\n",
    "        \n",
    "    return True\n",
    "\n",
    "es_primo(23)"
   ]
  },
  {
   "attachments": {},
   "cell_type": "markdown",
   "metadata": {},
   "source": [
    "2) Utilizando la función del punto 1, realizar otra función que reciba de parámetro una lista de números y devuelva sólo aquellos que son primos en otra lista"
   ]
  },
  {
   "cell_type": "code",
   "execution_count": 9,
   "metadata": {},
   "outputs": [
    {
     "name": "stdout",
     "output_type": "stream",
     "text": [
      "[2, 5, 7, 29, 11, 3, 67, 89]\n",
      "[2, 3, 5, 7, 11, 13, 17, 19]\n"
     ]
    }
   ],
   "source": [
    "def devolviendo_primos (lista):\n",
    "    '''\n",
    "    Devuelve una lista con los numeros primos\n",
    "    con respecto a otra\n",
    "    '''\n",
    "\n",
    "    copia = [x for x in lista if es_primo(x) == True]\n",
    "    return copia\n",
    "\n",
    "una_lista = [4,2,5,7,8,14,15,29,11,3,67,89,100]\n",
    "\n",
    "print(devolviendo_primos(una_lista))\n",
    "\n",
    "lis_completa = [1,2,3,4,5,6,7,8,9,10,11,12,13,14,15,16,17,18,19,20]\n",
    "\n",
    "print(devolviendo_primos(lis_completa))\n"
   ]
  },
  {
   "attachments": {},
   "cell_type": "markdown",
   "metadata": {},
   "source": [
    "3) Crear una función que al recibir una lista de números, devuelva el que más se repite y cuántas veces lo hace. Si hay más de un \"más repetido\", que devuelva cualquiera"
   ]
  },
  {
   "cell_type": "code",
   "execution_count": 17,
   "metadata": {},
   "outputs": [
    {
     "data": {
      "text/plain": [
       "'54 es el que más se repite con 4 veces'"
      ]
     },
     "execution_count": 17,
     "metadata": {},
     "output_type": "execute_result"
    }
   ],
   "source": [
    "def repetido(lista):\n",
    "    '''\n",
    "    Determian cual es el numero que mas se \n",
    "    repite en una lista\n",
    "    '''\n",
    "\n",
    "    copia = []\n",
    "    obj = {}\n",
    "\n",
    "    for i in lista:\n",
    "        if not (i in copia):\n",
    "            copia.append(i)\n",
    "            cantidad = lista.count(i)\n",
    "            obj[i] = cantidad\n",
    "        else:\n",
    "            continue\n",
    "\n",
    "    mayor_llave = \"\"\n",
    "    mayor_valor = 0\n",
    "\n",
    "    for llave, valor in list(obj.items()):\n",
    "        if(mayor_llave == \"\"):\n",
    "            mayor_llave = llave\n",
    "            mayor_valor = valor\n",
    "        else:\n",
    "            if(mayor_valor < valor):\n",
    "                mayor_llave = llave\n",
    "                mayor_valor = valor\n",
    "            else:\n",
    "                continue\n",
    "\n",
    "    return f'{mayor_llave} es el que más se repite con {mayor_valor} veces'\n",
    "\n",
    "    \n",
    "\n",
    "\n",
    "lista2 = [24, 54, 51, 81, 87, 59, 35, 30, 64, 54, 51, 81, 87, 59, 35, 54, 51, 81, 54]\n",
    "\n",
    "repetido(lista2)"
   ]
  },
  {
   "attachments": {},
   "cell_type": "markdown",
   "metadata": {},
   "source": [
    "4) Crear una función que convierta entre grados Celsius, Farenheit y Kelvin<br>\n",
    "Fórmula 1\t: (°C × 9/5) + 32 = °F<br>\n",
    "Fórmula 2\t: °C + 273.15 = °K<br>\n",
    "Debe recibir 3 parámetros: el valor, la medida de orígen y la medida de destino\n"
   ]
  },
  {
   "cell_type": "code",
   "execution_count": 2,
   "metadata": {},
   "outputs": [
    {
     "name": "stdout",
     "output_type": "stream",
     "text": [
      "100.4 °F\n"
     ]
    }
   ],
   "source": [
    "def conversion_temperatura (valor, me_origen, me_destino):\n",
    "    if(me_origen == \"°C\"):\n",
    "        if(me_destino == \"°F\"):\n",
    "            to_far = (valor * 9/5) + 32\n",
    "            return f'{to_far} °F'\n",
    "        else:\n",
    "            to_kel = (valor + 273.15)\n",
    "            return f'{to_kel} °K'\n",
    "    elif(me_origen == \"°F\"):\n",
    "        if(me_destino == \"°C\"):\n",
    "            to_ce = (valor - 32) * 5/9\n",
    "            return f'{to_ce} °C'\n",
    "        else:\n",
    "            to_kelv = (valor - 32) * 5/9 + 273.15\n",
    "            return f'{to_kelv} °K'\n",
    "    else:\n",
    "        if(me_destino == \"°C\"):\n",
    "            to_cel = valor - 273.15\n",
    "            return f'{to_cel} °C'\n",
    "        else:\n",
    "            to_fare = (valor - 273.15) * 9/5 + 32\n",
    "            return f'{to_fare} °F'\n",
    "        \n",
    "\n",
    "print(conversion_temperatura(38, \"°C\", \"°F\"))"
   ]
  },
  {
   "attachments": {},
   "cell_type": "markdown",
   "metadata": {},
   "source": [
    "5) Iterando una lista con los tres valores posibles de temperatura que recibe la función del punto 5, hacer un print para cada combinación de los mismos:"
   ]
  },
  {
   "cell_type": "code",
   "execution_count": 11,
   "metadata": {},
   "outputs": [
    {
     "name": "stdout",
     "output_type": "stream",
     "text": [
      "1 °C = 274.15 °K\n",
      "1 °C = 274.15 °K\n",
      "1 °C = 33.8 °F\n",
      "1 °K = -272.15 °C\n",
      "1 °K = -457.87 °F\n",
      "1 °K = -457.87 °F\n",
      "1 °F = -17.22222222222222 °C\n",
      "1 °F = 255.92777777777775 °K\n",
      "1 °F = 255.92777777777775 °K\n"
     ]
    }
   ],
   "source": [
    "unidades = [\"°C\", \"°K\", \"°F\"]\n",
    "\n",
    "for i in range(0,3):\n",
    "    for j in range(0,3):\n",
    "        print(f'1 {unidades[i]} = {conversion_temperatura(1,unidades[i],unidades[j])}')"
   ]
  },
  {
   "attachments": {},
   "cell_type": "markdown",
   "metadata": {},
   "source": [
    "6) Armar una función que devuelva el factorial de un número. Tener en cuenta que el usuario puede equivocarse y enviar de parámetro un número no entero o negativo"
   ]
  },
  {
   "cell_type": "code",
   "execution_count": 13,
   "metadata": {},
   "outputs": [
    {
     "name": "stdout",
     "output_type": "stream",
     "text": [
      "120\n"
     ]
    }
   ],
   "source": [
    "# def factorial(num):\n",
    "#     if(num < 0 or type(num) != int):\n",
    "#         return \"Debe ser un numero entero positivo\"\n",
    "    \n",
    "#     resultado = 1\n",
    "#     i = num\n",
    "\n",
    "#     while (i >= 2):\n",
    "#         resultado *= i\n",
    "#         i -= 1\n",
    "\n",
    "#     return resultado\n",
    "\n",
    "def factorial(num):\n",
    "    if(num < 0 or type(num) != int):\n",
    "        return \"Debe ser un numero entero positivo\"\n",
    "    \n",
    "    if (num <= 1):\n",
    "        return 1\n",
    "    \n",
    "    num = num * factorial(num-1)\n",
    "\n",
    "    return num\n",
    "\n",
    "\n",
    "\n",
    "print(factorial(5))\n",
    "    \n",
    "    \n"
   ]
  }
 ],
 "metadata": {
  "interpreter": {
   "hash": "c85384e4cb51c8b72350f3a8712cc8351fdc3955e32a27f9b60c6242ab125f01"
  },
  "kernelspec": {
   "display_name": "Python 3 (ipykernel)",
   "language": "python",
   "name": "python3"
  },
  "language_info": {
   "codemirror_mode": {
    "name": "ipython",
    "version": 3
   },
   "file_extension": ".py",
   "mimetype": "text/x-python",
   "name": "python",
   "nbconvert_exporter": "python",
   "pygments_lexer": "ipython3",
   "version": "3.11.3"
  }
 },
 "nbformat": 4,
 "nbformat_minor": 4
}
