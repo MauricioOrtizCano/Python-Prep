{
 "cells": [
  {
   "attachments": {},
   "cell_type": "markdown",
   "metadata": {},
   "source": [
    "## Manejo de errores"
   ]
  },
  {
   "attachments": {},
   "cell_type": "markdown",
   "metadata": {},
   "source": [
    "1) Con la clase creada en el módulo 7, tener en cuenta diferentes casos en que el código pudiera arrojar error. Por ejemplo, en la creación del objeto recibimos una lista de números enteros pero ¿qué pasa si se envía otro tipo de dato?"
   ]
  },
  {
   "cell_type": "code",
   "execution_count": 70,
   "metadata": {},
   "outputs": [
    {
     "name": "stdout",
     "output_type": "stream",
     "text": [
      "['c:\\\\Users\\\\USER\\\\Documents\\\\Todos Mis documentos\\\\Curso python\\\\Python Henry\\\\Python-Prep\\\\M09_errorhandling', 'c:\\\\Users\\\\USER\\\\AppData\\\\Local\\\\Programs\\\\Python\\\\Python311\\\\python311.zip', 'c:\\\\Users\\\\USER\\\\AppData\\\\Local\\\\Programs\\\\Python\\\\Python311\\\\DLLs', 'c:\\\\Users\\\\USER\\\\AppData\\\\Local\\\\Programs\\\\Python\\\\Python311\\\\Lib', 'c:\\\\Users\\\\USER\\\\AppData\\\\Local\\\\Programs\\\\Python\\\\Python311', '', 'C:\\\\Users\\\\USER\\\\AppData\\\\Roaming\\\\Python\\\\Python311\\\\site-packages', 'C:\\\\Users\\\\USER\\\\AppData\\\\Roaming\\\\Python\\\\Python311\\\\site-packages\\\\win32', 'C:\\\\Users\\\\USER\\\\AppData\\\\Roaming\\\\Python\\\\Python311\\\\site-packages\\\\win32\\\\lib', 'C:\\\\Users\\\\USER\\\\AppData\\\\Roaming\\\\Python\\\\Python311\\\\site-packages\\\\Pythonwin', 'c:\\\\Users\\\\USER\\\\AppData\\\\Local\\\\Programs\\\\Python\\\\Python311\\\\Lib\\\\site-packages', 'c:\\\\Users\\\\USER\\\\Documents\\\\Todos Mis documentos\\\\Curso python\\\\Python Henry\\\\Python-Prep\\\\M08_clasesyOOP', 'c:\\\\Users\\\\USER\\\\Documents\\\\Todos Mis documentos\\\\Curso python\\\\Python Henry\\\\Python-Prep\\\\M08_clasesyOOP', 'c:\\\\Users\\\\USER\\\\Documents\\\\Todos Mis documentos\\\\Curso python\\\\Python Henry\\\\Python-Prep\\\\M08_clasesyOOP', 'c:\\\\Users\\\\USER\\\\Documents\\\\Todos Mis documentos\\\\Curso python\\\\Python Henry\\\\Python-Prep\\\\M08_clasesyOOP', 'c:\\\\Users\\\\USER\\\\Documents\\\\Todos Mis documentos\\\\Curso python\\\\Python Henry\\\\Python-Prep\\\\M08_clasesyOOP', 'c:\\\\Users\\\\USER\\\\Documents\\\\Todos Mis documentos\\\\Curso python\\\\Python Henry\\\\Python-Prep\\\\M08_clasesyOOP', 'c:\\\\Users\\\\USER\\\\Documents\\\\Todos Mis documentos\\\\Curso python\\\\Python Henry\\\\Python-Prep\\\\M08_clasesyOOP', 'c:\\\\Users\\\\USER\\\\Documents\\\\Todos Mis documentos\\\\Curso python\\\\Python Henry\\\\Python-Prep\\\\M08_clasesyOOP', 'c:\\\\Users\\\\USER\\\\Documents\\\\Todos Mis documentos\\\\Curso python\\\\Python Henry\\\\Python-Prep\\\\M08_clasesyOOP', 'c:\\\\Users\\\\USER\\\\Documents\\\\Todos Mis documentos\\\\Curso python\\\\Python Henry\\\\Python-Prep\\\\M08_clasesyOOP', 'c:\\\\Users\\\\USER\\\\Documents\\\\Todos Mis documentos\\\\Curso python\\\\Python Henry\\\\Python-Prep\\\\M08_clasesyOOP', 'c:\\\\Users\\\\USER\\\\Documents\\\\Todos Mis documentos\\\\Curso python\\\\Python Henry\\\\Python-Prep\\\\M08_clasesyOOP', 'c:\\\\Users\\\\USER\\\\Documents\\\\Todos Mis documentos\\\\Curso python\\\\Python Henry\\\\Python-Prep\\\\M08_clasesyOOP']\n"
     ]
    },
    {
     "ename": "ValueError",
     "evalue": "Debe ser pasado como parametro una lista",
     "output_type": "error",
     "traceback": [
      "\u001b[1;31m---------------------------------------------------------------------------\u001b[0m",
      "\u001b[1;31mValueError\u001b[0m                                Traceback (most recent call last)",
      "Cell \u001b[1;32mIn[70], line 12\u001b[0m\n\u001b[0;32m      8\u001b[0m \u001b[38;5;28;01mfrom\u001b[39;00m \u001b[38;5;21;01mCalculadora\u001b[39;00m \u001b[38;5;28;01mimport\u001b[39;00m CalculadoraM08\n\u001b[0;32m     11\u001b[0m \u001b[38;5;66;03m#moda = CalculadoraM08([1,1,2,5,8,8,9,11,15,16,16,16,18,20])\u001b[39;00m\n\u001b[1;32m---> 12\u001b[0m moda \u001b[38;5;241m=\u001b[39m \u001b[43mCalculadoraM08\u001b[49m\u001b[43m(\u001b[49m\u001b[38;5;124;43m\"\u001b[39;49m\u001b[38;5;124;43m[1,1,2,5,8,8,9,11,15,16,16,16,18,20]\u001b[39;49m\u001b[38;5;124;43m\"\u001b[39;49m\u001b[43m)\u001b[49m\n\u001b[0;32m     14\u001b[0m \u001b[38;5;28mprint\u001b[39m(moda\u001b[38;5;241m.\u001b[39mrepetido())\n",
      "File \u001b[1;32mc:\\Users\\USER\\Documents\\Todos Mis documentos\\Curso python\\Python Henry\\Python-Prep\\M08_clasesyOOP\\Calculadora.py:5\u001b[0m, in \u001b[0;36mCalculadoraM08.__init__\u001b[1;34m(self, lista)\u001b[0m\n\u001b[0;32m      3\u001b[0m \u001b[38;5;28;01mif\u001b[39;00m (\u001b[38;5;28mtype\u001b[39m(lista) \u001b[38;5;241m!=\u001b[39m \u001b[38;5;28mlist\u001b[39m):\n\u001b[0;32m      4\u001b[0m     \u001b[38;5;28mself\u001b[39m\u001b[38;5;241m.\u001b[39mlista \u001b[38;5;241m=\u001b[39m []\n\u001b[1;32m----> 5\u001b[0m     \u001b[38;5;28;01mraise\u001b[39;00m \u001b[38;5;167;01mValueError\u001b[39;00m(\u001b[38;5;124m'\u001b[39m\u001b[38;5;124mDebe ser pasado como parametro una lista\u001b[39m\u001b[38;5;124m'\u001b[39m)\n\u001b[0;32m      6\u001b[0m \u001b[38;5;28;01melse\u001b[39;00m:\n\u001b[0;32m      7\u001b[0m     \u001b[38;5;28mself\u001b[39m\u001b[38;5;241m.\u001b[39mlista \u001b[38;5;241m=\u001b[39m lista\n",
      "\u001b[1;31mValueError\u001b[0m: Debe ser pasado como parametro una lista"
     ]
    }
   ],
   "source": [
    "import sys\n",
    "sys.path.append(r'c:\\Users\\USER\\Documents\\Todos Mis documentos\\Curso python\\Python Henry\\Python-Prep\\M08_clasesyOOP') #Agrega la ruta de herramientas.py al sys.path\n",
    "#De esta manera nos permite referenciar a herramientas desde una carpeta diferente a la que estamos\n",
    "#r'texto' nos permite usar expresiones regulares\n",
    "#sys.path.pop()\n",
    "print(sys.path)\n",
    "\n",
    "from Calculadora import CalculadoraM08\n",
    "\n",
    "\n",
    "#moda = CalculadoraM08([1,1,2,5,8,8,9,11,15,16,16,16,18,20])\n",
    "moda = CalculadoraM08(\"[1,1,2,5,8,8,9,11,15,16,16,16,18,20]\")\n",
    "\n",
    "print(moda.repetido())\n",
    "\n",
    "\n"
   ]
  },
  {
   "attachments": {},
   "cell_type": "markdown",
   "metadata": {},
   "source": [
    "2) En la función que hace la conversión de grados, validar que los parámetros enviados sean los esperados, de no serlo, informar cuáles son los valores esperados."
   ]
  },
  {
   "cell_type": "code",
   "execution_count": 66,
   "metadata": {},
   "outputs": [
    {
     "name": "stdout",
     "output_type": "stream",
     "text": [
      "100.4 °F\n",
      "True\n"
     ]
    }
   ],
   "source": [
    "convertir = CalculadoraM08([1,1,1,1,4,4,5,8,81,7,4,5])\n",
    "\n",
    "print(convertir.conversion_temperatura(38, \"°C\", \"°F\"))\n",
    "\n",
    "print(convertir.repetido() == (1, 4))"
   ]
  },
  {
   "attachments": {},
   "cell_type": "markdown",
   "metadata": {},
   "source": [
    "3) Importar el modulo \"unittest\" y crear los siguientes casos de pruebas sobre la clase utilizada en el punto 2<br>\n",
    "Creacion del objeto incorrecta<br>\n",
    "Creacion correcta del objeto<br>\n",
    "Metodo valor_modal()<br>\n",
    "\n",
    "Se puede usar \"raise ValueError()\" en la creación de la clase para verificar el error. Investigar sobre esta funcionalidad."
   ]
  },
  {
   "cell_type": "code",
   "execution_count": 67,
   "metadata": {},
   "outputs": [],
   "source": [
    "import unittest\n",
    "\n",
    "class PruebaPuntoDos(unittest.TestCase):\n",
    "\n",
    "    def test_valor_mas_se_repite(self):\n",
    "        nueva_lista = CalculadoraM08([1,1,1,1,4,4,5,8,81,7,4,5])\n",
    "\n",
    "        resultado = nueva_lista.repetido()\n",
    "\n",
    "        self.assertEqual(resultado, (1, 4))\n",
    "\n",
    "\n",
    "    "
   ]
  },
  {
   "cell_type": "code",
   "execution_count": 68,
   "metadata": {},
   "outputs": [
    {
     "name": "stderr",
     "output_type": "stream",
     "text": [
      "test_valor_mas_se_repite (__main__.PruebaPuntoDos.test_valor_mas_se_repite) ... ok\n",
      "\n",
      "----------------------------------------------------------------------\n",
      "Ran 1 test in 0.002s\n",
      "\n",
      "OK\n"
     ]
    },
    {
     "data": {
      "text/plain": [
       "<unittest.main.TestProgram at 0x15f58093210>"
      ]
     },
     "execution_count": 68,
     "metadata": {},
     "output_type": "execute_result"
    }
   ],
   "source": [
    "unittest.main(argv=[''], verbosity=2, exit=False)"
   ]
  },
  {
   "attachments": {},
   "cell_type": "markdown",
   "metadata": {},
   "source": [
    "4) Probar una creación incorrecta y visualizar la salida del \"raise\""
   ]
  },
  {
   "cell_type": "code",
   "execution_count": 69,
   "metadata": {},
   "outputs": [
    {
     "ename": "ValueError",
     "evalue": "Debe ser pasado como parametro una lista",
     "output_type": "error",
     "traceback": [
      "\u001b[1;31m---------------------------------------------------------------------------\u001b[0m",
      "\u001b[1;31mValueError\u001b[0m                                Traceback (most recent call last)",
      "Cell \u001b[1;32mIn[69], line 1\u001b[0m\n\u001b[1;32m----> 1\u001b[0m \u001b[43mCalculadoraM08\u001b[49m\u001b[43m(\u001b[49m\u001b[38;5;124;43m\"\u001b[39;49m\u001b[38;5;124;43mtexto\u001b[39;49m\u001b[38;5;124;43m\"\u001b[39;49m\u001b[43m)\u001b[49m\n",
      "File \u001b[1;32mc:\\Users\\USER\\Documents\\Todos Mis documentos\\Curso python\\Python Henry\\Python-Prep\\M08_clasesyOOP\\Calculadora.py:5\u001b[0m, in \u001b[0;36mCalculadoraM08.__init__\u001b[1;34m(self, lista)\u001b[0m\n\u001b[0;32m      3\u001b[0m \u001b[38;5;28;01mif\u001b[39;00m (\u001b[38;5;28mtype\u001b[39m(lista) \u001b[38;5;241m!=\u001b[39m \u001b[38;5;28mlist\u001b[39m):\n\u001b[0;32m      4\u001b[0m     \u001b[38;5;28mself\u001b[39m\u001b[38;5;241m.\u001b[39mlista \u001b[38;5;241m=\u001b[39m []\n\u001b[1;32m----> 5\u001b[0m     \u001b[38;5;28;01mraise\u001b[39;00m \u001b[38;5;167;01mValueError\u001b[39;00m(\u001b[38;5;124m'\u001b[39m\u001b[38;5;124mDebe ser pasado como parametro una lista\u001b[39m\u001b[38;5;124m'\u001b[39m)\n\u001b[0;32m      6\u001b[0m \u001b[38;5;28;01melse\u001b[39;00m:\n\u001b[0;32m      7\u001b[0m     \u001b[38;5;28mself\u001b[39m\u001b[38;5;241m.\u001b[39mlista \u001b[38;5;241m=\u001b[39m lista\n",
      "\u001b[1;31mValueError\u001b[0m: Debe ser pasado como parametro una lista"
     ]
    }
   ],
   "source": [
    "CalculadoraM08(\"texto\")"
   ]
  },
  {
   "attachments": {},
   "cell_type": "markdown",
   "metadata": {},
   "source": [
    "6) Agregar casos de pruebas para el método verifica_primos() realizando el cambio en la clase, para que devuelva una lista de True o False en función de que el elemento en la posisicón sea o no primo"
   ]
  },
  {
   "cell_type": "code",
   "execution_count": 72,
   "metadata": {},
   "outputs": [],
   "source": [
    "\n",
    "class PruebaPrimosTest(unittest.TestCase):\n",
    "    def test_de_primos(self):\n",
    "        imprimir = CalculadoraM08([1,2,3,4,5,6,7,8,9,10,11,12,13,14,15])\n",
    "        resultado = imprimir.es_primo()\n",
    "\n",
    "        self.assertEqual(resultado, [False, True, True, False, True, False, True, False, False, False, True, False, True, False, False])\n"
   ]
  },
  {
   "cell_type": "code",
   "execution_count": 75,
   "metadata": {},
   "outputs": [
    {
     "name": "stdout",
     "output_type": "stream",
     "text": [
      "[False, True, True, False, True, False, True, False, False, False, True, False, True, False, False]\n"
     ]
    },
    {
     "data": {
      "text/plain": [
       "<module 'Calculadora' from 'c:\\\\Users\\\\USER\\\\Documents\\\\Todos Mis documentos\\\\Curso python\\\\Python Henry\\\\Python-Prep\\\\M08_clasesyOOP\\\\Calculadora.py'>"
      ]
     },
     "execution_count": 75,
     "metadata": {},
     "output_type": "execute_result"
    }
   ],
   "source": [
    "import importlib\n",
    "\n",
    "importlib.reload(Calculadora)"
   ]
  },
  {
   "cell_type": "code",
   "execution_count": 76,
   "metadata": {},
   "outputs": [
    {
     "name": "stderr",
     "output_type": "stream",
     "text": [
      "test_de_primos (__main__.PruebaPrimosTest.test_de_primos) ... ERROR\n",
      "test_valor_mas_se_repite (__main__.PruebaPuntoDos.test_valor_mas_se_repite) ... ok\n",
      "\n",
      "======================================================================\n",
      "ERROR: test_de_primos (__main__.PruebaPrimosTest.test_de_primos)\n",
      "----------------------------------------------------------------------\n",
      "Traceback (most recent call last):\n",
      "  File \"C:\\Users\\USER\\AppData\\Local\\Temp\\ipykernel_4724\\304095911.py\", line 4, in test_de_primos\n",
      "    resultado = imprimir.es_primo()\n",
      "                ^^^^^^^^^^^^^^^^^^^\n",
      "TypeError: CalculadoraM08.es_primo() missing 1 required positional argument: 'num'\n",
      "\n",
      "----------------------------------------------------------------------\n",
      "Ran 2 tests in 0.003s\n",
      "\n",
      "FAILED (errors=1)\n"
     ]
    },
    {
     "data": {
      "text/plain": [
       "<unittest.main.TestProgram at 0x15f586a2a10>"
      ]
     },
     "execution_count": 76,
     "metadata": {},
     "output_type": "execute_result"
    }
   ],
   "source": [
    "unittest.main(argv=[''], verbosity=2, exit=False)"
   ]
  },
  {
   "attachments": {},
   "cell_type": "markdown",
   "metadata": {},
   "source": [
    "7) Agregar casos de pruebas para el método conversion_grados()"
   ]
  },
  {
   "cell_type": "code",
   "execution_count": null,
   "metadata": {},
   "outputs": [],
   "source": []
  },
  {
   "attachments": {},
   "cell_type": "markdown",
   "metadata": {},
   "source": [
    "8) Agregar casos de pruebas para el método factorial()"
   ]
  },
  {
   "cell_type": "code",
   "execution_count": null,
   "metadata": {},
   "outputs": [],
   "source": []
  }
 ],
 "metadata": {
  "interpreter": {
   "hash": "c85384e4cb51c8b72350f3a8712cc8351fdc3955e32a27f9b60c6242ab125f01"
  },
  "kernelspec": {
   "display_name": "Python 3 (ipykernel)",
   "language": "python",
   "name": "python3"
  },
  "language_info": {
   "codemirror_mode": {
    "name": "ipython",
    "version": 3
   },
   "file_extension": ".py",
   "mimetype": "text/x-python",
   "name": "python",
   "nbconvert_exporter": "python",
   "pygments_lexer": "ipython3",
   "version": "3.11.3"
  }
 },
 "nbformat": 4,
 "nbformat_minor": 4
}
