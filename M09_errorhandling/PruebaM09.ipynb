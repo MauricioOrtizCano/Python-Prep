{
 "cells": [
  {
   "cell_type": "code",
   "execution_count": 5,
   "metadata": {},
   "outputs": [
    {
     "name": "stdout",
     "output_type": "stream",
     "text": [
      "['p', 'p', 'a', 's', 's', 'z']\n"
     ]
    }
   ],
   "source": [
    "def primera_letra(lista_de_palabras):\n",
    "    primeras_letras = []\n",
    "\n",
    "    for palabra in lista_de_palabras:\n",
    "        assert type(palabra) == str, f'{palabra} no es string'\n",
    "        assert len(palabra) > 0, 'No se permiten string vacíos'\n",
    "        primeras_letras.append(palabra[0])\n",
    "\n",
    "    return primeras_letras\n",
    "\n",
    "\n",
    "lista = [\"palabra1\", \"palabra2\", \"abc\", \"secuencia1\", \"secuencia2\", \"zzz\"]\n",
    "print(primera_letra(lista))\n"
   ]
  },
  {
   "cell_type": "code",
   "execution_count": 1,
   "metadata": {},
   "outputs": [
    {
     "name": "stdout",
     "output_type": "stream",
     "text": [
      "[False, True, True, False, True, False, True, False, False, False, True, False, True, False, False]\n"
     ]
    }
   ],
   "source": [
    "def es_primo(num):\n",
    "    '''\n",
    "    Determina si un numero es primo o no\n",
    "    '''\n",
    "    if (num == 0 or num == 1 or num == 4):\n",
    "        return False\n",
    "\n",
    "    for i in range(2,num):\n",
    "        if(num % i == 0):\n",
    "            return False\n",
    "    \n",
    "    return True\n",
    "    \n",
    "def verificar_primos_en_lista(lista):\n",
    "    primos = []\n",
    "    for i in lista:\n",
    "        primos.append(es_primo(i))\n",
    "\n",
    "    return primos\n",
    "\n",
    "li = [1,2,3,4,5,6,7,8,9,10,11,12,13,14,15]\n",
    "\n",
    "print(verificar_primos_en_lista(li))"
   ]
  }
 ],
 "metadata": {
  "kernelspec": {
   "display_name": "Python 3",
   "language": "python",
   "name": "python3"
  },
  "language_info": {
   "codemirror_mode": {
    "name": "ipython",
    "version": 3
   },
   "file_extension": ".py",
   "mimetype": "text/x-python",
   "name": "python",
   "nbconvert_exporter": "python",
   "pygments_lexer": "ipython3",
   "version": "3.11.3"
  }
 },
 "nbformat": 4,
 "nbformat_minor": 2
}
