{
 "cells": [
  {
   "attachments": {},
   "cell_type": "markdown",
   "metadata": {},
   "source": [
    "## Flujos de Control"
   ]
  },
  {
   "attachments": {},
   "cell_type": "markdown",
   "metadata": {},
   "source": [
    "1) Crear una variable que contenga un elemento del conjunto de números enteros y luego imprimir por pantalla si es mayor o menor a cero"
   ]
  },
  {
   "cell_type": "code",
   "execution_count": 1,
   "metadata": {},
   "outputs": [
    {
     "name": "stdout",
     "output_type": "stream",
     "text": [
      "el numero 9 es mayor que cero\n"
     ]
    }
   ],
   "source": [
    "numero = 9\n",
    "\n",
    "if (numero < 0):\n",
    "    print('el numero es menor que cero')\n",
    "else:\n",
    "    print(f'el numero {numero} es mayor que cero')"
   ]
  },
  {
   "attachments": {},
   "cell_type": "markdown",
   "metadata": {},
   "source": [
    "2) Crear dos variables y un condicional que informe si son del mismo tipo de dato"
   ]
  },
  {
   "cell_type": "code",
   "execution_count": 20,
   "metadata": {},
   "outputs": [
    {
     "name": "stdout",
     "output_type": "stream",
     "text": [
      "No son el mismo tipo de dato\n"
     ]
    }
   ],
   "source": [
    "str1 = \"25\"\n",
    "num1 = 25\n",
    "\n",
    "if (type(num1) == type(str1)):\n",
    "    print('Son el mismo tipo de dato')\n",
    "else:\n",
    "    print('No son el mismo tipo de dato')"
   ]
  },
  {
   "attachments": {},
   "cell_type": "markdown",
   "metadata": {},
   "source": [
    "3) Para los valores enteros del 1 al 20, imprimir por pantalla si es par o impar"
   ]
  },
  {
   "cell_type": "code",
   "execution_count": 4,
   "metadata": {},
   "outputs": [
    {
     "name": "stdout",
     "output_type": "stream",
     "text": [
      "1 es un numero impar\n",
      "2 es un numero par\n",
      "3 es un numero impar\n",
      "4 es un numero par\n",
      "5 es un numero impar\n",
      "6 es un numero par\n",
      "7 es un numero impar\n",
      "8 es un numero par\n",
      "9 es un numero impar\n",
      "10 es un numero par\n",
      "11 es un numero impar\n",
      "12 es un numero par\n",
      "13 es un numero impar\n",
      "14 es un numero par\n",
      "15 es un numero impar\n",
      "16 es un numero par\n",
      "17 es un numero impar\n",
      "18 es un numero par\n",
      "19 es un numero impar\n",
      "20 es un numero par\n"
     ]
    }
   ],
   "source": [
    "for n in range(1,21):\n",
    "    if (n % 2 == 0):\n",
    "        print(f'{n} es un numero par')\n",
    "    else:\n",
    "        print(f'{n} es un numero impar')"
   ]
  },
  {
   "attachments": {},
   "cell_type": "markdown",
   "metadata": {},
   "source": [
    "4) En un ciclo for mostrar para los valores entre 0 y 5 el resultado de elevarlo a la potencia igual a 3"
   ]
  },
  {
   "cell_type": "code",
   "execution_count": 5,
   "metadata": {},
   "outputs": [
    {
     "name": "stdout",
     "output_type": "stream",
     "text": [
      "0\n",
      "1\n",
      "8\n",
      "27\n",
      "64\n",
      "125\n"
     ]
    }
   ],
   "source": [
    "rango = [0,1,2,3,4,5]\n",
    "\n",
    "for i in rango:\n",
    "    potencia = i**3\n",
    "    print(potencia)"
   ]
  },
  {
   "attachments": {},
   "cell_type": "markdown",
   "metadata": {},
   "source": [
    "5) Crear una variable que contenga un número entero y realizar un ciclo for la misma cantidad de ciclos"
   ]
  },
  {
   "cell_type": "code",
   "execution_count": 7,
   "metadata": {},
   "outputs": [
    {
     "name": "stdout",
     "output_type": "stream",
     "text": [
      "0\n",
      "1\n",
      "2\n",
      "3\n",
      "4\n"
     ]
    }
   ],
   "source": [
    "entero = 5\n",
    "\n",
    "for j in range(0,entero):\n",
    "    print(j)\n",
    "    # print(entero)\n",
    "    # entero -= 1"
   ]
  },
  {
   "attachments": {},
   "cell_type": "markdown",
   "metadata": {},
   "source": [
    "6) Utilizar un ciclo while para realizar el factorial de un número guardado en una variable, sólo si la variable contiene un número entero mayor a 0"
   ]
  },
  {
   "cell_type": "code",
   "execution_count": 21,
   "metadata": {},
   "outputs": [
    {
     "name": "stdout",
     "output_type": "stream",
     "text": [
      "120\n"
     ]
    }
   ],
   "source": [
    "numero_para_factorial = 5\n",
    "resultado = 1\n",
    "\n",
    "if(type(numero_para_factorial) == int):\n",
    "    while (numero_para_factorial > 0):\n",
    "        resultado *= numero_para_factorial\n",
    "        numero_para_factorial -= 1\n",
    "\n",
    "    print(resultado)\n",
    "\n",
    "else:\n",
    "    print('No es un número entero')\n"
   ]
  },
  {
   "attachments": {},
   "cell_type": "markdown",
   "metadata": {},
   "source": [
    "7) Crear un ciclo for dentro de un ciclo while"
   ]
  },
  {
   "cell_type": "code",
   "execution_count": 26,
   "metadata": {},
   "outputs": [
    {
     "name": "stdout",
     "output_type": "stream",
     "text": [
      "{1: [1], 2: [1, 2], 3: [1, 2, 3], 4: [1, 2, 3, 4], 5: [1, 2, 3, 4, 5]}\n"
     ]
    }
   ],
   "source": [
    "index = 1\n",
    "some_obje = {}\n",
    "\n",
    "while (index <= 5):\n",
    "    some_obje[index] = []\n",
    "    # print(some_obje)\n",
    "    aux2 = index + 1\n",
    "    # print(aux2)\n",
    "    for k in range(1,aux2):\n",
    "        some_obje[index].append(k)\n",
    "    \n",
    "    index += 1\n",
    "\n",
    "print(some_obje)\n",
    "\n"
   ]
  },
  {
   "attachments": {},
   "cell_type": "markdown",
   "metadata": {},
   "source": [
    "8) Crear un ciclo while dentro de un ciclo for"
   ]
  },
  {
   "cell_type": "code",
   "execution_count": 3,
   "metadata": {},
   "outputs": [
    {
     "name": "stdout",
     "output_type": "stream",
     "text": [
      "{1: [1], 2: [1, 2], 3: [1, 2, 3], 4: [1, 2, 3, 4], 5: [1, 2, 3, 4, 5]}\n"
     ]
    }
   ],
   "source": [
    "un_obj = {}\n",
    "\n",
    "for num in range(1,6):\n",
    "    un_obj[num] = []\n",
    "    ind = 1\n",
    "    while (ind <= num):\n",
    "        un_obj[num].append(ind)\n",
    "        ind += 1\n",
    "\n",
    "print(un_obj)\n"
   ]
  },
  {
   "attachments": {},
   "cell_type": "markdown",
   "metadata": {},
   "source": [
    "9) Imprimir los números primos existentes entre 0 y 30"
   ]
  },
  {
   "cell_type": "code",
   "execution_count": 5,
   "metadata": {},
   "outputs": [
    {
     "name": "stdout",
     "output_type": "stream",
     "text": [
      "[2, 3, 5, 7, 11, 13, 17, 19, 23, 29]\n"
     ]
    }
   ],
   "source": [
    "def evaluar(numero):\n",
    "    if(numero == 0 or numero == 1 or numero == 4):\n",
    "        return False\n",
    "    \n",
    "    intervalo = int(numero/2)\n",
    "    inter = intervalo + 1\n",
    "\n",
    "    for i in range(2,inter):\n",
    "        if(numero % i == 0):\n",
    "            return False\n",
    "        \n",
    "    return True\n",
    "\n",
    "array = []\n",
    "\n",
    "for j in range(0,31):\n",
    "    if (evaluar(j)):\n",
    "        array.append(j)\n",
    "    else:\n",
    "        continue\n",
    "\n",
    "print(array)\n"
   ]
  },
  {
   "cell_type": "code",
   "execution_count": 31,
   "metadata": {},
   "outputs": [
    {
     "name": "stdout",
     "output_type": "stream",
     "text": [
      "0\n",
      "1\n",
      "2\n",
      "3\n",
      "5\n",
      "7\n",
      "11\n",
      "13\n",
      "17\n",
      "19\n",
      "23\n",
      "29\n"
     ]
    }
   ],
   "source": [
    "hasta = 30\n",
    "n = 0\n",
    "esprimo = True\n",
    "\n",
    "while (n <= hasta):\n",
    "    for k in range(2, n):\n",
    "        if(n % k == 0):\n",
    "            esprimo = False\n",
    "\n",
    "    if (esprimo):\n",
    "        print(n)\n",
    "    else:\n",
    "        esprimo = True\n",
    "\n",
    "    n += 1"
   ]
  },
  {
   "attachments": {},
   "cell_type": "markdown",
   "metadata": {},
   "source": [
    "10) ¿Se puede mejorar el proceso del punto 9? Utilizar las sentencias break y/ó continue para tal fin"
   ]
  },
  {
   "cell_type": "code",
   "execution_count": 10,
   "metadata": {},
   "outputs": [
    {
     "name": "stdout",
     "output_type": "stream",
     "text": [
      "[2, 3, 5, 7, 11, 13, 17, 19, 23, 29]\n"
     ]
    }
   ],
   "source": [
    "def evaluar(numero):\n",
    "    if(numero == 0 or numero == 1 or numero == 4):\n",
    "        return False\n",
    "    \n",
    "    intervalo = int(numero/2)\n",
    "    inter = intervalo + 1\n",
    "\n",
    "    for i in range(2,inter):\n",
    "        if(numero % i == 0):\n",
    "            return False\n",
    "        \n",
    "    return True\n",
    "\n",
    "array = []\n",
    "\n",
    "for j in range(0,31):\n",
    "    if (evaluar(j)):\n",
    "        array.append(j)\n",
    "    else:\n",
    "        continue\n",
    "\n",
    "print(array)\n",
    "                "
   ]
  },
  {
   "attachments": {},
   "cell_type": "markdown",
   "metadata": {},
   "source": [
    "11) En los puntos 9 y 10, se diseño un código que encuentra números primos y además se lo optimizó. ¿Es posible saber en qué medida se optimizó?"
   ]
  },
  {
   "cell_type": "code",
   "execution_count": null,
   "metadata": {},
   "outputs": [],
   "source": []
  },
  {
   "attachments": {},
   "cell_type": "markdown",
   "metadata": {},
   "source": [
    "12) Aplicando continue, armar un ciclo while que solo imprima los valores divisibles por 12, dentro del rango de números de 100 a 300"
   ]
  },
  {
   "cell_type": "code",
   "execution_count": 14,
   "metadata": {},
   "outputs": [
    {
     "name": "stdout",
     "output_type": "stream",
     "text": [
      "[108, 120, 132, 144, 156, 168, 180, 192, 204, 216, 228, 240, 252, 264, 276, 288, 300]\n"
     ]
    }
   ],
   "source": [
    "start = 100\n",
    "divisibles = []\n",
    "\n",
    "while (start <= 300):\n",
    "    if(start % 12 == 0):\n",
    "        divisibles.append(start)\n",
    "        start += 1\n",
    "    else:\n",
    "        start += 1\n",
    "        continue\n",
    "\n",
    "print(divisibles)"
   ]
  },
  {
   "attachments": {},
   "cell_type": "markdown",
   "metadata": {},
   "source": [
    "13) Utilizar la función **input()** que permite hacer ingresos por teclado, para encontrar números primos y dar la opción al usario de buscar el siguiente"
   ]
  },
  {
   "cell_type": "code",
   "execution_count": 22,
   "metadata": {},
   "outputs": [
    {
     "name": "stdout",
     "output_type": "stream",
     "text": [
      "2\n",
      "¿Desea conocer el siguiente numero primo?\n",
      "3\n",
      "¿Desea conocer el siguiente numero primo?\n",
      "5\n",
      "¿Desea conocer el siguiente numero primo?\n",
      "7\n",
      "¿Desea conocer el siguiente numero primo?\n",
      "11\n",
      "¿Desea conocer el siguiente numero primo?\n",
      "13\n",
      "¿Desea conocer el siguiente numero primo?\n",
      "17\n",
      "¿Desea conocer el siguiente numero primo?\n",
      "19\n",
      "¿Desea conocer el siguiente numero primo?\n",
      "Proceso finalizado\n"
     ]
    }
   ],
   "source": [
    "def es_primo(numero):\n",
    "    if(numero == 0 or numero == 1 or numero == 4):\n",
    "        return False\n",
    "    \n",
    "\n",
    "    for i in range(2,numero):\n",
    "        if (numero % i == 0):\n",
    "            return False\n",
    "        \n",
    "    return True\n",
    "\n",
    "\n",
    "\n",
    "array_primos = []\n",
    "\n",
    "for k in range(3,200):\n",
    "    if(es_primo(k)):\n",
    "        array_primos.append(k)\n",
    "    else:\n",
    "        continue\n",
    "\n",
    "\n",
    "print(2)\n",
    "print(\"¿Desea conocer el siguiente numero primo?\")\n",
    "\n",
    "evaluar = True\n",
    "while(evaluar == True):\n",
    "    if(input() == 'si'):\n",
    "        print(array_primos[0])\n",
    "        array_primos.pop(0)\n",
    "        print(\"¿Desea conocer el siguiente numero primo?\")\n",
    "    else:\n",
    "        print('Proceso finalizado')\n",
    "        evaluar = False\n",
    "        "
   ]
  },
  {
   "cell_type": "code",
   "execution_count": 1,
   "metadata": {},
   "outputs": [
    {
     "name": "stdout",
     "output_type": "stream",
     "text": [
      "11 es un numero primo, ¿desea conocer el siguiente numero primo?\n",
      "13\n",
      "¿desea conocer el siguiente numero primo?\n",
      "17\n",
      "¿desea conocer el siguiente numero primo?\n",
      "19\n",
      "¿desea conocer el siguiente numero primo?\n",
      "23\n",
      "¿desea conocer el siguiente numero primo?\n",
      "Proceso finalizado\n"
     ]
    }
   ],
   "source": [
    "entrada = int(input(\"Ingrese un numero para saber si es primo: \"))\n",
    "\n",
    "def evaluacion(n):\n",
    "    if (n == 0 or n == 1 or n == 4 or n < 0):\n",
    "        return False\n",
    "    \n",
    "    for f in range(2,n):\n",
    "        if(n % f == 0):\n",
    "            return False\n",
    "        \n",
    "    return True\n",
    "\n",
    "\n",
    "if (evaluacion(entrada)):\n",
    "    print(f\"{entrada} es un numero primo, ¿desea conocer el siguiente numero primo?\")\n",
    "    respuesta = input(\"responda SI o NO: \")\n",
    "    if(respuesta == \"SI\"):\n",
    "        masuno = entrada + 1\n",
    "        doble = entrada * 5\n",
    "        for j in range(masuno,doble):\n",
    "            if (evaluacion(j)):\n",
    "                print(j)\n",
    "                print(\"¿desea conocer el siguiente numero primo?\")\n",
    "                if(input() == \"SI\"):\n",
    "                    continue\n",
    "                else:\n",
    "                    print(\"Proceso finalizado\")\n",
    "                    break\n",
    "            else:\n",
    "                continue\n",
    "    else:\n",
    "        print(\"Proceso finalizado\")\n",
    "\n",
    "else:\n",
    "    print(f\"el numero {entrada} no es un numero primo\")\n",
    "    "
   ]
  },
  {
   "attachments": {},
   "cell_type": "markdown",
   "metadata": {},
   "source": [
    "14) Crear un ciclo while que encuentre dentro del rango de 100 a 300 el primer número divisible por 3 y además múltiplo de 6"
   ]
  },
  {
   "cell_type": "code",
   "execution_count": 20,
   "metadata": {},
   "outputs": [
    {
     "name": "stdout",
     "output_type": "stream",
     "text": [
      "102\n"
     ]
    }
   ],
   "source": [
    "i = 100\n",
    "\n",
    "while(i <= 300):\n",
    "    if(i % 3 == 0):\n",
    "        if(i % 6 == 0):\n",
    "            print(i)\n",
    "            break\n",
    "        else:\n",
    "            continue\n",
    "    else:\n",
    "        i += 1"
   ]
  }
 ],
 "metadata": {
  "interpreter": {
   "hash": "c85384e4cb51c8b72350f3a8712cc8351fdc3955e32a27f9b60c6242ab125f01"
  },
  "kernelspec": {
   "display_name": "Python 3 (ipykernel)",
   "language": "python",
   "name": "python3"
  },
  "language_info": {
   "codemirror_mode": {
    "name": "ipython",
    "version": 3
   },
   "file_extension": ".py",
   "mimetype": "text/x-python",
   "name": "python",
   "nbconvert_exporter": "python",
   "pygments_lexer": "ipython3",
   "version": "3.11.3"
  }
 },
 "nbformat": 4,
 "nbformat_minor": 4
}
