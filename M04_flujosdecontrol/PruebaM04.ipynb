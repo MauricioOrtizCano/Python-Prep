{
 "cells": [
  {
   "cell_type": "code",
   "execution_count": 1,
   "metadata": {},
   "outputs": [
    {
     "name": "stdout",
     "output_type": "stream",
     "text": [
      "1\n",
      "2\n",
      "3\n",
      "4\n",
      "5\n",
      "6\n",
      "7\n",
      "8\n",
      "9\n",
      "10\n",
      "11\n"
     ]
    }
   ],
   "source": [
    "for n in range(1,12):\n",
    "    print(n)"
   ]
  },
  {
   "cell_type": "code",
   "execution_count": 4,
   "metadata": {},
   "outputs": [
    {
     "name": "stdout",
     "output_type": "stream",
     "text": [
      "1\n",
      "2\n",
      "3\n",
      "4\n",
      "5\n",
      "6\n",
      "7\n",
      "8\n",
      "9\n",
      "10\n"
     ]
    }
   ],
   "source": [
    "n = 1\n",
    "\n",
    "while (n <= 10):\n",
    "    print(n)\n",
    "    n += 1"
   ]
  },
  {
   "cell_type": "code",
   "execution_count": 5,
   "metadata": {},
   "outputs": [
    {
     "name": "stdout",
     "output_type": "stream",
     "text": [
      "1\n",
      "2\n",
      "3\n",
      "4\n",
      "5\n"
     ]
    }
   ],
   "source": [
    "for i in range(1,10):\n",
    "    print(i)\n",
    "    if (i == 5):\n",
    "        break"
   ]
  },
  {
   "cell_type": "code",
   "execution_count": 1,
   "metadata": {},
   "outputs": [
    {
     "name": "stdout",
     "output_type": "stream",
     "text": [
      "1\n",
      "2\n",
      "3\n",
      "4\n",
      "5\n",
      "6\n",
      "7\n",
      "8\n",
      "9\n"
     ]
    }
   ],
   "source": [
    "lista = (1,2,3,4,5,6,7,8,9)\n",
    "\n",
    "for num in lista:\n",
    "    print(num)"
   ]
  },
  {
   "cell_type": "code",
   "execution_count": 2,
   "metadata": {},
   "outputs": [
    {
     "name": "stdout",
     "output_type": "stream",
     "text": [
      "estudiante1\n",
      "estudiante2\n",
      "estudiante3\n",
      "estudiante4\n"
     ]
    }
   ],
   "source": [
    "Clase90210 = {\n",
    "    'estudiante1':'Silver',\n",
    "    'estudiante2': 'Dixon',\n",
    "    'estudiante3': 'Naomy',\n",
    "    'estudiante4': 'Annie'\n",
    "}\n",
    "\n",
    "for estudiante in Clase90210:\n",
    "    print(estudiante)"
   ]
  },
  {
   "cell_type": "code",
   "execution_count": 6,
   "metadata": {},
   "outputs": [
    {
     "name": "stdout",
     "output_type": "stream",
     "text": [
      "g\n",
      "j\n",
      "g\n",
      ",\n",
      "L\n",
      "*\n",
      "U\n",
      "A\n",
      "%\n",
      "R\n",
      "N\n",
      "i\n",
      "*\n",
      "5\n",
      "c\n",
      "k\n",
      ")\n",
      "%\n",
      "W\n",
      "A\n",
      "K\n",
      "}\n",
      "]\n",
      "a\n",
      "%\n",
      "C\n",
      "W\n",
      "R\n",
      "y\n",
      "6\n",
      "*\n",
      "J\n",
      "V\n",
      "H\n",
      "$\n",
      "@\n",
      "h\n",
      "6\n",
      "7\n",
      "M\n",
      "J\n",
      "0\n",
      "m\n",
      "Q\n",
      "r\n",
      "(\n",
      "}\n",
      "-\n",
      "se encontro el caracter -\n"
     ]
    }
   ],
   "source": [
    "string1 = 'gjg,L*UA%RNi*5ck)%WAK}]a%CWRy6*JVH$@h67MJ0mQr(}-zw6.7xj/[WF4'\n",
    "\n",
    "for caracter in string1:\n",
    "    print(caracter)\n",
    "    if (caracter == '-'):\n",
    "        print('se encontro el caracter -')\n",
    "        break"
   ]
  },
  {
   "cell_type": "code",
   "execution_count": 7,
   "metadata": {},
   "outputs": [
    {
     "name": "stdout",
     "output_type": "stream",
     "text": [
      "y\n",
      "t\n",
      "h\n",
      "o\n",
      "n\n"
     ]
    }
   ],
   "source": [
    "cadena = 'Python'\n",
    "for letra in cadena:\n",
    "    if letra == 'P':\n",
    "        continue\n",
    "    print(letra)"
   ]
  },
  {
   "cell_type": "code",
   "execution_count": 8,
   "metadata": {},
   "outputs": [
    {
     "name": "stdout",
     "output_type": "stream",
     "text": [
      "es entero\n"
     ]
    }
   ],
   "source": [
    "numeros = 5\n",
    "\n",
    "if(type(numeros) == int):\n",
    "    print('es entero')\n",
    "else:\n",
    "    print('no es entero')"
   ]
  },
  {
   "cell_type": "code",
   "execution_count": 2,
   "metadata": {},
   "outputs": [
    {
     "name": "stdout",
     "output_type": "stream",
     "text": [
      "{'1': [1], '2': [1, 2], '3': [1, 2, 3], '4': [1, 2, 3, 4]}\n"
     ]
    }
   ],
   "source": [
    "un_diccionario = {\n",
    "    '1': [1],\n",
    "    '2': [1,2],\n",
    "    '3': [1,2,3]\n",
    "}\n",
    "\n",
    "nume = 1\n",
    "un_diccionario['4'] = []\n",
    "\n",
    "while(nume <= 4):\n",
    "    un_diccionario['4'].append(nume)\n",
    "    nume += 1\n",
    "\n",
    "print(un_diccionario)"
   ]
  },
  {
   "cell_type": "code",
   "execution_count": 5,
   "metadata": {},
   "outputs": [
    {
     "name": "stdout",
     "output_type": "stream",
     "text": [
      "[2, 4, 6, 8, 10]\n"
     ]
    }
   ],
   "source": [
    "array = [1,2,3,4,5]\n",
    "conjunto = []\n",
    "\n",
    "for u in array:\n",
    "    resultado = u * 2\n",
    "    conjunto.append(resultado)\n",
    "\n",
    "print(conjunto)"
   ]
  },
  {
   "cell_type": "code",
   "execution_count": 15,
   "metadata": {},
   "outputs": [
    {
     "name": "stdout",
     "output_type": "stream",
     "text": [
      "[2, 5, 8, 7, 2, 4, 6, 9, 8, 2, 4, 5, 24, 54]\n"
     ]
    }
   ],
   "source": [
    "unarray = [2,3,5,8,7,2,4,6,9,8,2,4,5,24,54]\n",
    "\n",
    "unarray.pop(1)\n",
    "\n",
    "print(unarray)"
   ]
  },
  {
   "cell_type": "code",
   "execution_count": 23,
   "metadata": {},
   "outputs": [
    {
     "data": {
      "text/plain": [
       "0"
      ]
     },
     "execution_count": 23,
     "metadata": {},
     "output_type": "execute_result"
    }
   ],
   "source": [
    "102%6"
   ]
  }
 ],
 "metadata": {
  "kernelspec": {
   "display_name": "Python 3",
   "language": "python",
   "name": "python3"
  },
  "language_info": {
   "codemirror_mode": {
    "name": "ipython",
    "version": 3
   },
   "file_extension": ".py",
   "mimetype": "text/x-python",
   "name": "python",
   "nbconvert_exporter": "python",
   "pygments_lexer": "ipython3",
   "version": "3.11.3"
  }
 },
 "nbformat": 4,
 "nbformat_minor": 2
}
